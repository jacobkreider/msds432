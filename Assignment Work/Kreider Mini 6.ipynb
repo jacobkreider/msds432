{
 "cells": [
  {
   "cell_type": "markdown",
   "metadata": {
    "colab_type": "text",
    "id": "D3Lel7ovxVr_"
   },
   "source": [
    "### Mini Programming Assignment 6: Implementing a Breadth-First Search Algorithm\n",
    "###### *Notebook created by: Jacob Kreider*\n",
    "\n",
    "In the following notebook, I will generate a graph network of one-way connections between people. I will then create and implement a simple breadth-first search algorithm to search for names within the levels of that network, and chart the execution times for various searches."
   ]
  },
  {
   "cell_type": "code",
   "execution_count": 0,
   "metadata": {
    "colab": {},
    "colab_type": "code",
    "id": "sxrSofAHVUOk"
   },
   "outputs": [],
   "source": [
    "from numpy.random import seed\n",
    "from numpy.random import randint\n",
    "import numpy as np\n",
    "import time\n",
    "import matplotlib.pyplot as plt\n",
    "import pandas as pd\n",
    "import string, random\n",
    "from collections import deque\n"
   ]
  },
  {
   "cell_type": "code",
   "execution_count": 0,
   "metadata": {
    "colab": {},
    "colab_type": "code",
    "id": "oGNHcZx3VUOp"
   },
   "outputs": [],
   "source": [
    "# You can use the breadth-first algorithm for this assignment \n",
    "# from Grokking Algorithms (Bhargava 2016) or create your own.\n",
    "\n",
    "# A slightly modified version of the Grokking book function\n",
    "def search(name):\n",
    "    search_queue = deque()\n",
    "    search_queue += myGraph[\"initialize\"]\n",
    "    # This array is how you keep track of which people you've searched before.\n",
    "    searched = []\n",
    "    while search_queue:\n",
    "        person = search_queue.popleft()\n",
    "        # Only search this person if you haven't already searched them.\n",
    "        if person not in searched:\n",
    "            if person == name:\n",
    "                \n",
    "                return True\n",
    "            else:\n",
    "                search_queue += myGraph[person]\n",
    "                # Marks this person as searched\n",
    "                searched.append(person)\n",
    "    return False\n"
   ]
  },
  {
   "cell_type": "code",
   "execution_count": 0,
   "metadata": {
    "colab": {},
    "colab_type": "code",
    "id": "WOot7aX2VUO2"
   },
   "outputs": [],
   "source": [
    "#Create a five level 'connections' graph (all unique, no duplicates).\n",
    "#First level should have five people and each person in first level \n",
    "#should have five connections (they can be exclusive to one person or \n",
    "#shared with other members on the same level, but all five should be unique, no duplicates)\n",
    "\n",
    "#Create graph with each subsequent level as one-way connection to the above level\n",
    "\n",
    "myGraph = {}\n",
    "# Level 0\n",
    "myGraph[\"initialize\"] = [\"Jacob\", \"Michael\", \"Koebley\", \"Jeff\", \"Sara\"]\n",
    "# Level 1\n",
    "myGraph[\"Jacob\"]  = [\"Lindsey\", \"Markel\", \"Ben\", \"David\", \"Lauren\"]\n",
    "myGraph[\"Michael\"] = [\"Lindsey\", \"Markel\", \"Ben\", \"David\", \"Lauren\"]\n",
    "myGraph[\"Koebley\"] = [\"Lindsey\", \"Markel\", \"Ben\", \"David\", \"Lauren\"]\n",
    "myGraph[\"Jeff\"] = [\"Lindsey\", \"Markel\", \"Ben\", \"David\", \"Lauren\"]\n",
    "myGraph[\"Sara\"] = [\"Lindsey\", \"Markel\", \"Ben\", \"David\", \"Lauren\"]\n",
    "# Level 2\n",
    "myGraph[\"Lindsey\"] = [\"Emma\", \"Olivia\", \"Ava\", \"Isabella\", \"Sophia\"]\n",
    "myGraph[\"Markel\"] = [\"Emma\", \"Olivia\", \"Ava\", \"Isabella\", \"Sophia\"]\n",
    "myGraph[\"Ben\"] = [\"Emma\", \"Olivia\", \"Ava\", \"Isabella\", \"Sophia\"]\n",
    "myGraph[\"David\"] = [\"Emma\", \"Olivia\", \"Ava\", \"Isabella\", \"Sophia\"]\n",
    "myGraph[\"Lauren\"] = [\"Emma\", \"Olivia\", \"Ava\", \"Isabella\", \"Sophia\"]\n",
    "# Level 3\n",
    "myGraph[\"Emma\"] = [\"Mia\", \"Charlotte\", \"Amelia\", \"Evelyn\",  \"Abigail\"]\n",
    "myGraph[\"Olivia\"] = [\"Mia\", \"Charlotte\", \"Amelia\", \"Evelyn\",  \"Abigail\"]\n",
    "myGraph[\"Ava\"] = [\"Mia\", \"Charlotte\", \"Amelia\", \"Evelyn\",  \"Abigail\"]\n",
    "myGraph[\"Isabella\"] = [\"Mia\", \"Charlotte\", \"Amelia\", \"Evelyn\",  \"Abigail\"]\n",
    "myGraph[\"Sophia\"] = [\"Mia\", \"Charlotte\", \"Amelia\", \"Evelyn\",  \"Abigail\"]\n",
    "# Level 4\n",
    "myGraph[\"Mia\"] = [\"Jordan\", \"Eva\", \"Dominic\", \"Emilia\", \"Austin\"]\n",
    "myGraph[\"Charlotte\"] = [\"Jordan\", \"Eva\", \"Dominic\", \"Emilia\", \"Austin\"]\n",
    "myGraph[\"Amelia\"] = [\"Jordan\", \"Eva\", \"Dominic\", \"Emilia\", \"Austin\"]\n",
    "myGraph[\"Evelyn\"] = [\"Jordan\", \"Eva\", \"Dominic\", \"Emilia\", \"Austin\"]\n",
    "myGraph[\"Abigail\"] = [\"Jordan\", \"Eva\", \"Dominic\", \"Emilia\", \"Austin\"]\n",
    "# Level 5\n",
    "myGraph[\"Jordan\"] = [\"Sean\", \"Shawn\", \"Shaun\", \"Shauna\", \"Sinn\"]\n",
    "myGraph[\"Eva\"] = [\"Sean\", \"Shawn\", \"Shaun\", \"Shauna\", \"Sinn\"]\n",
    "myGraph[\"Dominic\"] = [\"Sean\", \"Shawn\", \"Shaun\", \"Shauna\", \"Sinn\"]\n",
    "myGraph[\"Emilia\"] = [\"Sean\", \"Shawn\", \"Shaun\", \"Shauna\", \"Sinn\"]\n",
    "myGraph[\"Austin\"] = [\"Sean\", \"Shawn\", \"Shaun\", \"Shauna\", \"Sinn\"]\n",
    "# Level 6\n",
    "myGraph[\"Sean\"] = []\n",
    "myGraph[\"Shawn\"] = []\n",
    "myGraph[\"Shaun\"] = []\n",
    "myGraph[\"Shauna\"] = []\n",
    "myGraph[\"Sinn\"] = []"
   ]
  },
  {
   "cell_type": "code",
   "execution_count": 0,
   "metadata": {
    "colab": {},
    "colab_type": "code",
    "id": "7743_PesVUO6"
   },
   "outputs": [],
   "source": [
    "# Now search for one person on first level, then two on second (they should \n",
    "# be connected to the same person), then three on third level (they should be \n",
    "# connected to the same person), then four on the fourth level (they should be \n",
    "# connected to the same person), then five on the fifth level (they should be \n",
    "#connected to the same person)\n",
    "\n",
    "# Capture time for each search at each level\n",
    "\n",
    "# One name at level 1\n",
    "iteration = 0\n",
    "levelOneTime = 0\n",
    "\n",
    "while iteration < 1001:\n",
    "  start = time.clock()\n",
    "  search(\"Jeff\")\n",
    "  \n",
    "  stop = time.clock()\n",
    "\n",
    "  levelOneTime += (stop - start) \n",
    "  iteration += 1\n",
    "\n",
    "# Two names at level 2\n",
    "iteration = 0\n",
    "levelTwoTime = 0\n",
    "searchList = [\"Lindsey\", \"Ben\"]\n",
    "\n",
    "while iteration < 1001:\n",
    "  start = time.clock()\n",
    "  \n",
    "  for name in searchList:\n",
    "    search(name)\n",
    "  \n",
    "  stop = time.clock()\n",
    "\n",
    "  levelTwoTime += (stop - start)\n",
    "  iteration += 1\n",
    "\n",
    "# Three names at level 3\n",
    "\n",
    "iteration = 0\n",
    "levelThreeTime = 0\n",
    "searchList = [\"Mia\", \"Charlotte\", \"Amelia\"]\n",
    "\n",
    "while iteration < 1001:\n",
    "  start = time.clock()\n",
    "\n",
    "  for name in searchList:\n",
    "    search(name)\n",
    "  \n",
    "  stop = time.clock()\n",
    "\n",
    "  levelThreeTime += (stop - start)\n",
    "  iteration += 1\n",
    "\n",
    "\n",
    "# Four names at level 4\n",
    "searchList = [\"Jordan\", \"Eva\", \"Dominic\", \"Emilia\"]\n",
    "iteration = 0\n",
    "levelFourTime = 0\n",
    "\n",
    "while iteration < 1001:\n",
    "  start = time.clock()\n",
    "\n",
    "  for name in searchList:\n",
    "    search(name)\n",
    "  \n",
    "  stop = time.clock()\n",
    "\n",
    "  levelFourTime += (stop - start)\n",
    "  iteration += 1\n",
    "\n",
    "# Five names at level 5\n",
    "searchList = [\"Sean\", \"Shawn\", \"Shaun\", \"Shauna\", \"Sinn\"]\n",
    "iteration = 0\n",
    "levelFiveTime = 0\n",
    "\n",
    "while iteration < 1001:\n",
    "  start = time.clock()\n",
    "\n",
    "  for name in searchList:\n",
    "    search(name)\n",
    "  \n",
    "  stop = time.clock()\n",
    "\n",
    "  levelFiveTime += (stop - start)\n",
    "  iteration += 1\n"
   ]
  },
  {
   "cell_type": "code",
   "execution_count": 17,
   "metadata": {
    "colab": {
     "base_uri": "https://localhost:8080/",
     "height": 199
    },
    "colab_type": "code",
    "id": "i8AR3oCqpXD9",
    "outputId": "9392cc0a-7514-4a9b-9721-283267a0021b"
   },
   "outputs": [
    {
     "data": {
      "text/html": [
       "<div>\n",
       "<style scoped>\n",
       "    .dataframe tbody tr th:only-of-type {\n",
       "        vertical-align: middle;\n",
       "    }\n",
       "\n",
       "    .dataframe tbody tr th {\n",
       "        vertical-align: top;\n",
       "    }\n",
       "\n",
       "    .dataframe thead th {\n",
       "        text-align: right;\n",
       "    }\n",
       "</style>\n",
       "<table border=\"1\" class=\"dataframe\">\n",
       "  <thead>\n",
       "    <tr style=\"text-align: right;\">\n",
       "      <th></th>\n",
       "      <th>Names Searched</th>\n",
       "      <th>Level Searched</th>\n",
       "      <th>Search Time (ms)</th>\n",
       "    </tr>\n",
       "  </thead>\n",
       "  <tbody>\n",
       "    <tr>\n",
       "      <th>0</th>\n",
       "      <td>Jacob</td>\n",
       "      <td>Level 1</td>\n",
       "      <td>0.003</td>\n",
       "    </tr>\n",
       "    <tr>\n",
       "      <th>1</th>\n",
       "      <td>Lindsey, Ben</td>\n",
       "      <td>Level 2</td>\n",
       "      <td>0.009</td>\n",
       "    </tr>\n",
       "    <tr>\n",
       "      <th>2</th>\n",
       "      <td>Mia, Charlotte, Amelia</td>\n",
       "      <td>Level 3</td>\n",
       "      <td>0.058</td>\n",
       "    </tr>\n",
       "    <tr>\n",
       "      <th>3</th>\n",
       "      <td>Jordan, Eva, Dominic, Emilia</td>\n",
       "      <td>Level 4</td>\n",
       "      <td>0.115</td>\n",
       "    </tr>\n",
       "    <tr>\n",
       "      <th>4</th>\n",
       "      <td>Sean, Shawn, Shaun, Shauna, Sinn</td>\n",
       "      <td>Level 5</td>\n",
       "      <td>0.201</td>\n",
       "    </tr>\n",
       "  </tbody>\n",
       "</table>\n",
       "</div>"
      ],
      "text/plain": [
       "                     Names Searched Level Searched Search Time (ms)\n",
       "0                             Jacob        Level 1            0.003\n",
       "1                      Lindsey, Ben        Level 2            0.009\n",
       "2            Mia, Charlotte, Amelia        Level 3            0.058\n",
       "3      Jordan, Eva, Dominic, Emilia        Level 4            0.115\n",
       "4  Sean, Shawn, Shaun, Shauna, Sinn        Level 5            0.201"
      ]
     },
     "execution_count": 17,
     "metadata": {
      "tags": []
     },
     "output_type": "execute_result"
    }
   ],
   "source": [
    "# Organize the results of the study into an table showing the 'name' \n",
    "# that you searched for, the level of the search (first, second, third, \n",
    "# fourth, fifth), and the time it took.\n",
    "\n",
    "searchResults = pd.DataFrame(np.array([[\"Jacob\", \"Level 1\"\n",
    "                                        , round(levelOneTime,3)]\n",
    "                                     , [\"Lindsey, Ben\", \"Level 2\"\n",
    "                                        , round(levelTwoTime, 3)]\n",
    "                                     , [\"Mia, Charlotte, Amelia\", \"Level 3\"\n",
    "                                        , round(levelThreeTime, 3)]\n",
    "                                     , [\"Jordan, Eva, Dominic, Emilia\", \"Level 4\"\n",
    "                                         , round(levelFourTime, 3)]\n",
    "                                     , [\"Sean, Shawn, Shaun, Shauna, Sinn\", \"Level 5\"\n",
    "                                         , round(levelFiveTime, 3)]])\n",
    "                                     , columns = [\"Names Searched\", \"Level Searched\"\n",
    "                                         , \"Search Time (ms)\"])\n",
    "\n",
    "searchResults"
   ]
  },
  {
   "cell_type": "code",
   "execution_count": 18,
   "metadata": {
    "colab": {
     "base_uri": "https://localhost:8080/",
     "height": 386
    },
    "colab_type": "code",
    "id": "LfqtikWQVUO9",
    "outputId": "b0d68b0d-07bf-4296-8ef7-f323d9c7b7a0"
   },
   "outputs": [
    {
     "data": {
      "image/png": "[encoded data removed]",
      "text/plain": [
       "<Figure size 576x396 with 1 Axes>"
      ]
     },
     "metadata": {
      "tags": []
     },
     "output_type": "display_data"
    }
   ],
   "source": [
    "# Create a graph and compare times at each level \n",
    "\n",
    "plt.bar([\"Level 1\", \"Level 2\", \"Level 3\", \"Level 4\", \"Level 5\"]\n",
    "        , [levelOneTime, levelTwoTime, levelThreeTime, levelFourTime\n",
    "           , levelFiveTime])\n",
    "plt.ylabel('Average Time to Execute in Milliseconds')\n",
    "plt.suptitle('Breadth First Search Execution Time')\n",
    "plt.title('(While adding an additional name search at each level)')\n",
    "plt.show()"
   ]
  },
  {
   "cell_type": "code",
   "execution_count": 15,
   "metadata": {
    "colab": {
     "base_uri": "https://localhost:8080/",
     "height": 36
    },
    "colab_type": "code",
    "id": "Vx1sqDDrVUPA",
    "outputId": "9114fa12-4ca4-4675-e484-17a8ca48f117"
   },
   "outputs": [
    {
     "data": {
      "text/plain": [
       "0.0028649999999963427"
      ]
     },
     "execution_count": 15,
     "metadata": {
      "tags": []
     },
     "output_type": "execute_result"
    }
   ],
   "source": []
  },
  {
   "cell_type": "markdown",
   "metadata": {
    "colab_type": "text",
    "id": "Jwr6JEAtvQHP"
   },
   "source": [
    "##### Executive Summary\n",
    "\n",
    "The above breadth-first algorithm searches nodes of the graph network along edges, meaning that every time it searches a name (as long as that name ), it appends the nodes directly connected below that name to the search queue. \n",
    "\n",
    "As such, it will take O(V + E) time to search through the entire graph (V = vertices, or, nodes, and E = edges). Depending on the complexity of the graph network, this linear time expense could quickly become untenable. \n",
    "\n",
    "I would recommend breadth-first search only in instances where the graph size is known and limited-- this algorithm could cause efficiency issues on a large graph with complex connections."
   ]
  }
 ],
 "metadata": {
  "colab": {
   "collapsed_sections": [],
   "name": "Kreider Mini 6.ipynb",
   "provenance": [],
   "version": "0.3.2"
  },
  "kernelspec": {
   "display_name": "Python 3",
   "language": "python",
   "name": "python3"
  },
  "language_info": {
   "codemirror_mode": {
    "name": "ipython",
    "version": 3
   },
   "file_extension": ".py",
   "mimetype": "text/x-python",
   "name": "python",
   "nbconvert_exporter": "python",
   "pygments_lexer": "ipython3",
   "version": "3.6.5"
  }
 },
 "nbformat": 4,
 "nbformat_minor": 1
}
