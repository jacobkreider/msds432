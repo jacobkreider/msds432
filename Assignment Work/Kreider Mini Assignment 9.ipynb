{
  "nbformat": 4,
  "nbformat_minor": 0,
  "metadata": {
    "colab": {
      "name": "Kreider Mini Assignment 9.ipynb",
      "version": "0.3.2",
      "provenance": []
    },
    "kernelspec": {
      "name": "python3",
      "display_name": "Python 3"
    }
  },
  "cells": [
    {
      "metadata": {
        "id": "j3wgS3JpRFiU",
        "colab_type": "text"
      },
      "cell_type": "markdown",
      "source": [
        "#### Mini Programming Assignment 9: Dynamic Programming\n",
        "##### *Notebook Created by Jacob Kreider*\n",
        "\n",
        "For this assignment, I chose to solve the number of ways to reach a given score. From the problem description, found [here](https://www.sanfoundry.com/dynamic-programming-solutions-definite-score-problem/):\n",
        "\n",
        "\"In a game, a player can score only 3, 5 or 10 points in a move. Given a score S, find the number of ways to reach the given score using the specified moves.\"\n",
        "\n",
        "I will write a Python version of the C++ code found at the above link. "
      ]
    },
    {
      "metadata": {
        "id": "wXTvuXgSz49k",
        "colab_type": "code",
        "colab": {}
      },
      "cell_type": "code",
      "source": [
        "\n",
        "def WaysToReachScore(score): \n",
        "  \n",
        "    # Create a table with length(score) and initialized with zeros\n",
        "    table = [0 for i in range(score+1)] \n",
        "  \n",
        "    # If the score is 0, there's only one solution- not moving\n",
        "    table[0] = 1\n",
        "  \n",
        "    # We'll move through the grid one points value at a time, calculating how\n",
        "    # many ways the score can be achieved using only that score\n",
        "    for i in range(3, score+1): \n",
        "        table[i] += table[i-3] \n",
        "    for i in range(5, score+1): \n",
        "        table[i] += table[i-5] \n",
        "    for i in range(10, score+1): \n",
        "        table[i] += table[i-10] \n",
        "  \n",
        "    return table[score] "
      ],
      "execution_count": 0,
      "outputs": []
    },
    {
      "metadata": {
        "id": "AbVFnY0aTZgl",
        "colab_type": "text"
      },
      "cell_type": "markdown",
      "source": [
        "The table that is returned shows the total combinations that can be used to achieve each score in the range. So, for a desired score of 13:"
      ]
    },
    {
      "metadata": {
        "id": "9NurrxTGz6WH",
        "colab_type": "code",
        "colab": {
          "base_uri": "https://localhost:8080/",
          "height": 36
        },
        "outputId": "fd67e3e7-229c-4f4f-a9a4-0aa30f0d1d45"
      },
      "cell_type": "code",
      "source": [
        "WaysToReachScore(13)"
      ],
      "execution_count": 48,
      "outputs": [
        {
          "output_type": "execute_result",
          "data": {
            "text/plain": [
              "2"
            ]
          },
          "metadata": {
            "tags": []
          },
          "execution_count": 48
        }
      ]
    },
    {
      "metadata": {
        "id": "eW7zQDUcUeXG",
        "colab_type": "text"
      },
      "cell_type": "markdown",
      "source": [
        "I'll now pull the script outside of the function call and look at what each step is doing."
      ]
    },
    {
      "metadata": {
        "id": "VranmKk2z8jt",
        "colab_type": "code",
        "colab": {
          "base_uri": "https://localhost:8080/",
          "height": 36
        },
        "outputId": "9dee25bf-5495-4b5a-fe62-bc17c2267dff"
      },
      "cell_type": "code",
      "source": [
        "score = 13\n",
        "\n",
        "table = [0 for i in range(score+1)] \n",
        "  \n",
        "# If the score is 0, there's only one solution- not moving\n",
        "table[0] = 1\n",
        "  \n",
        "# We'll move through the grid one points value at a time, calculating how\n",
        "# many ways each score in the range can be achieved using only that move\n",
        "# The table is updated as we move through the points values\n",
        "for i in range(3, score+1): \n",
        "    table[i] += table[i-3] \n",
        "    \n",
        "print(table)\n"
      ],
      "execution_count": 51,
      "outputs": [
        {
          "output_type": "stream",
          "text": [
            "[1, 0, 0, 1, 0, 0, 1, 0, 0, 1, 0, 0, 1, 0]\n"
          ],
          "name": "stdout"
        }
      ]
    },
    {
      "metadata": {
        "id": "dzwxXc_BUxBk",
        "colab_type": "text"
      },
      "cell_type": "markdown",
      "source": [
        "Looking at only moves with a score of 3, we can see that there are five scores in the range we can achieve: 0 (by not playing), 3, 6, 9, and 12. Now, I'll update the table again, keeping the knowledge from above, and adding moves worth five points:"
      ]
    },
    {
      "metadata": {
        "id": "Mp67PXDg6t1v",
        "colab_type": "code",
        "colab": {
          "base_uri": "https://localhost:8080/",
          "height": 36
        },
        "outputId": "b8badbd4-5feb-4f20-a9be-c7b3e7fbf6ef"
      },
      "cell_type": "code",
      "source": [
        "for i in range(5, score+1): \n",
        "    table[i] += table[i-5] \n",
        "    \n",
        "print(table)"
      ],
      "execution_count": 52,
      "outputs": [
        {
          "output_type": "stream",
          "text": [
            "[1, 0, 0, 1, 0, 1, 1, 0, 1, 1, 1, 1, 1, 1]\n"
          ],
          "name": "stdout"
        }
      ]
    },
    {
      "metadata": {
        "id": "sZLiY38wVNwi",
        "colab_type": "text"
      },
      "cell_type": "markdown",
      "source": [
        "Now, we can achieve most of the scores in the range via a combination of 5-point and 3-point moves. Finally, we'll update the table again with 10-point moves:"
      ]
    },
    {
      "metadata": {
        "id": "DEy9zxrUTiHI",
        "colab_type": "code",
        "colab": {
          "base_uri": "https://localhost:8080/",
          "height": 36
        },
        "outputId": "9ecdb0ac-11e2-4919-9c38-0212fa1dbb05"
      },
      "cell_type": "code",
      "source": [
        "\n",
        "for i in range(10, score+1): \n",
        "    table[i] += table[i-10] \n",
        "    \n",
        "print(table)"
      ],
      "execution_count": 53,
      "outputs": [
        {
          "output_type": "stream",
          "text": [
            "[1, 0, 0, 1, 0, 1, 1, 0, 1, 1, 2, 1, 1, 2]\n"
          ],
          "name": "stdout"
        }
      ]
    },
    {
      "metadata": {
        "id": "Uzdn4R20WC9_",
        "colab_type": "text"
      },
      "cell_type": "markdown",
      "source": [
        "Now, we can see that the algorithm has correctly idenitifed that there are two combinations that lead to a score of 13: 5+5+3 and 10+3.\n",
        "\n",
        "#### Executive Summary\n",
        "\n",
        "In Big O notation, this algorithm performs at O(n)- the time is directly related to the total score that is being sought. That, of course, is dependent on this specific problem-- one with three possible points values. In a general sense, the algorithm performs at O(score * points-values).\n",
        "\n",
        "Dynamic programming gives a low-expense way of solving complex problems, as long as those problems can be subdivided into clear, discrete subproblems."
      ]
    }
  ]
}