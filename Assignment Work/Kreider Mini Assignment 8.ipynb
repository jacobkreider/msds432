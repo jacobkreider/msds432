{
  "nbformat": 4,
  "nbformat_minor": 0,
  "metadata": {
    "colab": {
      "name": "Mini Assignment 8- Kreider Jacob.ipynb",
      "version": "0.3.2",
      "provenance": []
    },
    "kernelspec": {
      "name": "python3",
      "display_name": "Python 3"
    }
  },
  "cells": [
    {
      "metadata": {
        "id": "UwVlsBOHosuM",
        "colab_type": "text"
      },
      "cell_type": "markdown",
      "source": [
        "#### MSDS 432 Mini Programming Assignment 8: Greedy Algorithm\n",
        "##### *Notebook created by: Jacob Kreider*\n",
        "\n",
        "In the following notebook, I will create a greedy algorithm that will find an approximately correct solution for a scheduling problem.\n",
        "\n",
        "The task is to schedule all 24 hours worth of security shifts, utilizing a maximum of six employees. The owner wishes to minimize job cost. Any employee working eight hours or less is paid \\\\$15 per hour, while any hours in excess of eight are paid at \\\\$20 per hour.\n",
        "\n",
        "To start the process, we will set these parameters as objects:"
      ]
    },
    {
      "metadata": {
        "id": "8cG0AmUZmUqg",
        "colab_type": "code",
        "colab": {}
      },
      "cell_type": "code",
      "source": [
        "# We have 24 hours that need scheduled\n",
        "hoursToSchedule = 24\n",
        "\n",
        "# Our wage rates\n",
        "regularWage = 15\n",
        "otWage = 20\n",
        "\n",
        "# Hold our wage rates in a list\n",
        "wages = [regularWage, otWage]\n",
        "\n",
        "# Overtime kicks in at > 8 hours\n",
        "otCutoff = 8\n",
        "\n",
        "# We have 6 possible employees to schedule\n",
        "numWorkers = 6"
      ],
      "execution_count": 0,
      "outputs": []
    },
    {
      "metadata": {
        "id": "WRM9mgtCrL4F",
        "colab_type": "text"
      },
      "cell_type": "markdown",
      "source": [
        "Next, I will create a list for each of our workers' scheduled hours, initialized with zeros for each worker. Then, I create a loop that adds one hour to each worker's schedule until the 24 hours are fully scheduled. I decided to keep an egalitarian schedule-- each worker's total hours should be as close to equal as possible. "
      ]
    },
    {
      "metadata": {
        "id": "AEoolFt6r3e7",
        "colab_type": "code",
        "colab": {
          "base_uri": "https://localhost:8080/",
          "height": 230
        },
        "outputId": "d3fcf44b-7a3c-4f3e-a811-8a5216420e12"
      },
      "cell_type": "code",
      "source": [
        "import numpy as np\n",
        "import pandas as pd\n",
        "\n",
        "# Create array to hold scheduled hours for each worker\n",
        "workers = np.zeros(numWorkers)\n",
        "\n",
        "# Set index\n",
        "i = 0\n",
        "\n",
        "# Until the total hours scheduled in the worker array equals 24, loop through\n",
        "# the array and add an hour to each worker's schedule\n",
        "while sum(workers) != hoursToSchedule:\n",
        "  workers[i] += 1\n",
        "  i = (i + 1) % len(workers)\n",
        "  \n",
        "pd.DataFrame([[\"Worker 1\", workers[0]]\n",
        "              , [\"Worker 2\", workers[1]]\n",
        "                ,[\"Worker 3\", workers[2]]\n",
        "             , [\"Worker 4\", workers[3]]\n",
        "             , [\"Worker 5\", workers[4]]\n",
        "             , [\"Worker 6\", workers[5]]]\n",
        "             , columns = [\"Worker\", \"Hours Scheduled\"])"
      ],
      "execution_count": 60,
      "outputs": [
        {
          "output_type": "execute_result",
          "data": {
            "text/html": [
              "<div>\n",
              "<style scoped>\n",
              "    .dataframe tbody tr th:only-of-type {\n",
              "        vertical-align: middle;\n",
              "    }\n",
              "\n",
              "    .dataframe tbody tr th {\n",
              "        vertical-align: top;\n",
              "    }\n",
              "\n",
              "    .dataframe thead th {\n",
              "        text-align: right;\n",
              "    }\n",
              "</style>\n",
              "<table border=\"1\" class=\"dataframe\">\n",
              "  <thead>\n",
              "    <tr style=\"text-align: right;\">\n",
              "      <th></th>\n",
              "      <th>Worker</th>\n",
              "      <th>Hours Scheduled</th>\n",
              "    </tr>\n",
              "  </thead>\n",
              "  <tbody>\n",
              "    <tr>\n",
              "      <th>0</th>\n",
              "      <td>Worker 1</td>\n",
              "      <td>4.0</td>\n",
              "    </tr>\n",
              "    <tr>\n",
              "      <th>1</th>\n",
              "      <td>Worker 2</td>\n",
              "      <td>4.0</td>\n",
              "    </tr>\n",
              "    <tr>\n",
              "      <th>2</th>\n",
              "      <td>Worker 3</td>\n",
              "      <td>4.0</td>\n",
              "    </tr>\n",
              "    <tr>\n",
              "      <th>3</th>\n",
              "      <td>Worker 4</td>\n",
              "      <td>4.0</td>\n",
              "    </tr>\n",
              "    <tr>\n",
              "      <th>4</th>\n",
              "      <td>Worker 5</td>\n",
              "      <td>4.0</td>\n",
              "    </tr>\n",
              "    <tr>\n",
              "      <th>5</th>\n",
              "      <td>Worker 6</td>\n",
              "      <td>4.0</td>\n",
              "    </tr>\n",
              "  </tbody>\n",
              "</table>\n",
              "</div>"
            ],
            "text/plain": [
              "     Worker  Hours Scheduled\n",
              "0  Worker 1              4.0\n",
              "1  Worker 2              4.0\n",
              "2  Worker 3              4.0\n",
              "3  Worker 4              4.0\n",
              "4  Worker 5              4.0\n",
              "5  Worker 6              4.0"
            ]
          },
          "metadata": {
            "tags": []
          },
          "execution_count": 60
        }
      ]
    },
    {
      "metadata": {
        "id": "Xd_fgCwvujX2",
        "colab_type": "text"
      },
      "cell_type": "markdown",
      "source": [
        "As we can see in the table above, we have achieved our goal of equal hours scheduled.\n",
        "However, did we find an optimal solution?\n",
        "\n",
        "Next, we will determine whether our total job cost has exceeded the minimum possible for this problem."
      ]
    },
    {
      "metadata": {
        "id": "KaajnSRmsIFq",
        "colab_type": "code",
        "colab": {
          "base_uri": "https://localhost:8080/",
          "height": 73
        },
        "outputId": "4f8aa0bc-bb87-49a5-bc06-27233e49373f"
      },
      "cell_type": "code",
      "source": [
        "# I create a function that will calculate the total cost of this security job\n",
        "def jobCost(workerList):\n",
        "  jobCost = 0\n",
        "  for worker in workerList:\n",
        "    if worker <= otCutoff:\n",
        "      workerPay = worker*15\n",
        "    else:\n",
        "      workerPay = (8*regularWage) + ((worker-8)*otWage)\n",
        "    jobCost += workerPay\n",
        "  return jobCost   \n",
        "   \n",
        "# If we scheduled all 24 hours at the cheapest possible wage\n",
        "minJobCost = hoursToSchedule * min(wages)\n",
        "\n",
        "print(\"The minimum possible cost for this job is $%s.00\" % minJobCost)\n",
        "print(\"The actual cost as scheduled is $%s0\" % jobCost(workers))\n",
        "\n",
        "if minJobCost == jobCost(workers):\n",
        "  print(\"We have achieved an optimal solution\")\n",
        "else:\n",
        "  print(\"We have exceeded the minimum job cost\")"
      ],
      "execution_count": 65,
      "outputs": [
        {
          "output_type": "stream",
          "text": [
            "The minimum possible cost for this job is $360.00\n",
            "The actual cost as scheduled is $360.00\n",
            "We have achieved an optimal solution\n"
          ],
          "name": "stdout"
        }
      ]
    },
    {
      "metadata": {
        "id": "v-L1e016viuu",
        "colab_type": "code",
        "colab": {}
      },
      "cell_type": "code",
      "source": [
        "#### Executive Summary\n",
        "\n",
        "The solution above is just one of many possible optimal solutions to this problem.\n"
      ],
      "execution_count": 0,
      "outputs": []
    },
    {
      "metadata": {
        "id": "mGbsCAiFwgcW",
        "colab_type": "text"
      },
      "cell_type": "markdown",
      "source": [
        "#### Executive Summary\n",
        "\n",
        "The solution above is just one of many possible optimal solutions to this problem. Had we instead opted to reward seniority, we could have scheduled three workers at 8 hours each and ended up with the same total job cost.\n",
        "\n",
        "In much more complex problems, however, this method will arrive at an approximately correct solution faster than attempting to derive every possible schedule combination. By moving to a greedy algorithm, we reduce the solve time from exponential time O(2^n) to linear time, O(n)."
      ]
    },
    {
      "metadata": {
        "id": "n9glcWVZyZ1Q",
        "colab_type": "code",
        "colab": {}
      },
      "cell_type": "code",
      "source": [
        ""
      ],
      "execution_count": 0,
      "outputs": []
    }
  ]
}