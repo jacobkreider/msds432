{
 "cells": [
  {
   "cell_type": "markdown",
   "metadata": {},
   "source": [
    "## Mini Programming Assignment 7: Dijkstra's Algorithm\n",
    "###### *Notebook created by Jacob Kreider*\n",
    "\n",
    "In the following notebook, I will compare the performance of the breadth-first search and Dijkstra's algorithms. I will generate a weighted, acyclic graph representing cities and drivetimes between NYC and Los Angeles, and present both the routes and drivetimes produced by each algorithm."
   ]
  },
  {
   "cell_type": "code",
   "execution_count": 22,
   "metadata": {},
   "outputs": [],
   "source": [
    "# First, we'll initialize each of our nodes in the graph \n",
    "graph = {}\n",
    "graph['NYC'] = {}\n",
    "graph['DC'] = {}\n",
    "graph['Atlanta'] = {}\n",
    "graph['New Orleans'] = {}\n",
    "graph['Dallas'] = {}\n",
    "graph['Indianapolis'] = {}\n",
    "graph['Kansas City'] = {}\n",
    "graph['Denver'] = {}\n",
    "graph['Pittsburgh'] = {}\n",
    "graph['Cincinatti'] = {}\n",
    "graph['St Louis'] = {}\n",
    "graph['OK City'] = {}\n",
    "graph['Alburqurque'] = {}\n",
    "graph['Salt Lake City'] = {}\n",
    "graph['Phoenix'] = {}\n",
    "graph['Las Vegas'] = {}\n",
    "graph['San Diego'] = {}\n",
    "graph['Los Angeles'] = {}\n"
   ]
  },
  {
   "cell_type": "code",
   "execution_count": 23,
   "metadata": {},
   "outputs": [],
   "source": [
    "# Now, we'll add all the neighbor relationships\n",
    "\n",
    "graph['NYC']['DC'] = 2\n",
    "graph['NYC']['Pittsburgh'] = 7\n",
    "graph['NYC']['Indianapolis'] = 11\n",
    "\n",
    "graph['DC']['Atlanta'] = 2\n",
    "graph['Atlanta']['New Orleans'] = 2\n",
    "graph['New Orleans']['Dallas'] = 2\n",
    "graph['Dallas']['Alburqurque'] = 2\n",
    "graph['Alburqurque']['Phoenix'] = 2\n",
    "graph['Phoenix']['Las Vegas'] = 2\n",
    "graph['Phoenix']['San Diego'] = 5\n",
    "graph['San Diego']['Los Angeles'] = 2\n",
    "graph['Las Vegas']['San Diego'] = 2\n",
    "graph['Las Vegas']['Los Angeles'] = 5\n",
    "\n",
    "graph['Indianapolis']['Kansas City'] = 8\n",
    "graph['Kansas City']['Denver'] = 7\n",
    "graph['Denver']['Salt Lake City'] = 6\n",
    "graph['Salt Lake City']['Las Vegas'] = 9\n",
    "\n",
    "graph['Pittsburgh']['Cincinatti'] = 6\n",
    "graph['Cincinatti']['St Louis'] = 8\n",
    "graph['St Louis']['OK City'] = 7\n",
    "graph['OK City']['Alburqurque'] = 9\n"
   ]
  },
  {
   "cell_type": "code",
   "execution_count": 24,
   "metadata": {},
   "outputs": [],
   "source": [
    "# Next, create the cost table\n",
    "# We'll set the cost at infinity for every node except DC, Pittsburgh, and \n",
    "# Indianapolis and let the algorithm figure out the true cost\n",
    "\n",
    "infinity = float(\"inf\")\n",
    "\n",
    "costs = {}\n",
    "\n",
    "costs['DC'] = 2\n",
    "costs['Atlanta'] = infinity\n",
    "costs['New Orleans'] = infinity\n",
    "costs['Dallas'] = infinity\n",
    "costs['Indianapolis'] = 11\n",
    "costs['Kansas City'] = infinity\n",
    "costs['Denver'] = infinity\n",
    "costs['Pittsburgh'] = 7\n",
    "costs['Cincinatti'] = infinity\n",
    "costs['St Louis'] = infinity\n",
    "costs['OK City'] = infinity\n",
    "costs['Alburqurque'] = infinity\n",
    "costs['Salt Lake City'] = infinity\n",
    "costs['Phoenix'] = infinity\n",
    "costs['Las Vegas'] = infinity\n",
    "costs['San Diego'] = infinity\n",
    "costs['Los Angeles'] = infinity\n"
   ]
  },
  {
   "cell_type": "code",
   "execution_count": 25,
   "metadata": {},
   "outputs": [],
   "source": [
    "\n",
    "# Next, create a table for the parents. We'll set DC, Pittsburgh, and Atlanta\n",
    "# to NYC and the rest to None\n",
    "parents = {}\n",
    "\n",
    "parents['DC'] = \"NYC\"\n",
    "parents['Atlanta'] = None\n",
    "parents['New Orleans'] = None\n",
    "parents['Dallas'] = None\n",
    "parents['Indianapolis'] = \"NYC\"\n",
    "parents['Kansas City'] = None\n",
    "parents['Denver'] = None\n",
    "parents['Pittsburgh'] = \"NYC\"\n",
    "parents['Cincinatti'] = None\n",
    "parents['St Louis'] = None\n",
    "parents['OK City'] = None\n",
    "parents['Alburqurque'] = None\n",
    "parents['Salt Lake City'] = None\n",
    "parents['Phoenix'] = None\n",
    "parents['Las Vegas'] = None\n",
    "parents['San Diego'] = None\n",
    "parents['Los Angeles'] = None\n",
    "\n",
    "processed = []\n"
   ]
  },
  {
   "cell_type": "code",
   "execution_count": 26,
   "metadata": {},
   "outputs": [
    {
     "name": "stdout",
     "output_type": "stream",
     "text": [
      "Here's your route:\n",
      "The shortest route is:\n",
      "['NYC', 'Indianapolis', 'Kansas City', 'Denver', 'Salt Lake City', 'Las Vegas', 'Los Angeles']\n"
     ]
    }
   ],
   "source": [
    "# First use Breadth-first algorithm to find the fastest way to get to L.A from NYC, \n",
    "# capture the time that it will take to get to L.A. from NYC using the breadth first \n",
    "# algorithm (use the weights assigned to the routes even though breadth-first works \n",
    "# on unweighted edges but you should calculate on the side)\n",
    "\n",
    "def BFS(graph, start, finish):\n",
    "    # keep track of processed nodes\n",
    "    processed = []\n",
    "    # keep track of all the paths to be checked\n",
    "    queue = [[start]]\n",
    " \n",
    "    # return path if start is goal\n",
    "    if start == finish:\n",
    "        return \"You're already there!\"\n",
    " \n",
    "    # We need to check all possible paths\n",
    "    while queue:\n",
    "        # Take the first path\n",
    "        path = queue.pop(0)\n",
    "        # Find the last possible destination on this path\n",
    "        node = path[-1]\n",
    "        if node not in processed:\n",
    "            neighbors = graph[node]\n",
    "            # go through all neighbor nodes, make a new path and\n",
    "            # push it into the queue\n",
    "            for neighbor in neighbors:\n",
    "                newPath = list(path)\n",
    "                newPath.append(neighbor)\n",
    "                queue.append(newPath)\n",
    "                # return path if neighbour is goal\n",
    "                if neighbor == finish:\n",
    "                    print(\"Here's your route:\")\n",
    "                    return newPath\n",
    " \n",
    "            # mark node as processed\n",
    "            processed.append(node)\n",
    " \n",
    "    # in case there's no path between the 2 nodes\n",
    "    return \"There's no way to get there!\"\n",
    " \n",
    "bfsPath = BFS(graph, 'NYC', 'Los Angeles')  \n",
    "print(\"The shortest route is:\")\n",
    "print(bfsPath)\n"
   ]
  },
  {
   "cell_type": "code",
   "execution_count": 27,
   "metadata": {},
   "outputs": [
    {
     "name": "stdout",
     "output_type": "stream",
     "text": [
      "The shortest route will take:\n",
      "46 hours\n"
     ]
    }
   ],
   "source": [
    "# Capturing the travel time\n",
    "\n",
    "bfsCost = 0\n",
    "bfsCost += (graph['NYC']['Indianapolis'] + graph['Indianapolis']['Kansas City']\n",
    "            + graph['Kansas City']['Denver'] + graph['Denver']['Salt Lake City']\n",
    "            + graph['Salt Lake City']['Las Vegas'] + graph['Las Vegas']['Los Angeles'])\n",
    "\n",
    "\n",
    "print(\"The shortest route will take:\")\n",
    "print('%s hours' % bfsCost)"
   ]
  },
  {
   "cell_type": "markdown",
   "metadata": {},
   "source": [
    " Dijkstra's Algoithm from Grokking text"
   ]
  },
  {
   "cell_type": "code",
   "execution_count": 28,
   "metadata": {},
   "outputs": [],
   "source": [
    "# function to find the lowest cost node, check neighboring costs, and updating\n",
    "# the costs and parents to reflect the cheapest path\n",
    "\n",
    "def findLowestCostNode(costs):\n",
    "    lowestCost = float(\"inf\")\n",
    "    lowestCostNode = None\n",
    "    for node in costs:\n",
    "        cost = costs[node]\n",
    "        if cost < lowestCost and node not in processed:\n",
    "            lowestCost = cost\n",
    "            lowestCostNode = node\n",
    "    return lowestCostNode\n"
   ]
  },
  {
   "cell_type": "code",
   "execution_count": 29,
   "metadata": {},
   "outputs": [],
   "source": [
    "# The algorithm\n",
    "    \n",
    "node = findLowestCostNode(costs) # Find lowest cost, unprocessed node\n",
    "while node is not None: # While loop ends when all nodes have been processed\n",
    "    cost = costs[node]\n",
    "    neighbors = graph[node]\n",
    "    for n in neighbors.keys(): # Go through all neighors of node in question\n",
    "        newCost = cost + neighbors[n] # Find cost to get to node through neighbor\n",
    "        if costs[n] > newCost: # If it is cheaper this way\n",
    "            costs[n] = newCost # update the cost to reflect this\n",
    "            parents[n] = node # This node is now the parent of the neighbor\n",
    "    processed.append(node) # mark the node as processed\n",
    "    node = findLowestCostNode(costs) # Process the next node and loop\n",
    "    \n",
    "\n"
   ]
  },
  {
   "cell_type": "code",
   "execution_count": null,
   "metadata": {},
   "outputs": [],
   "source": []
  },
  {
   "cell_type": "code",
   "execution_count": 30,
   "metadata": {},
   "outputs": [
    {
     "name": "stdout",
     "output_type": "stream",
     "text": [
      "The cheapest route is:\n",
      "['NYC', 'DC', 'Atlanta', 'New Orleans', 'Dallas', 'Alburqurque', 'Phoenix', 'Las Vegas', 'San Diego', 'Los Angeles']\n"
     ]
    }
   ],
   "source": [
    "city = [\"Los Angeles\"]\n",
    "cheapRoute = []\n",
    "city.append(parents.get(\"Los Angeles\"))\n",
    "cheapRoute = list(city)\n",
    "\n",
    "value = []\n",
    "\n",
    "while value is not None:\n",
    "    value = parents.get(city.pop())\n",
    "    city.append(value)\n",
    "    cheapRoute.append(value)\n",
    "\n",
    "cheapRoute.remove(None)\n",
    "cheapRoute.reverse()\n",
    "\n",
    "print(\"The cheapest route is:\")\n",
    "print(cheapRoute)\n"
   ]
  },
  {
   "cell_type": "code",
   "execution_count": 36,
   "metadata": {},
   "outputs": [
    {
     "name": "stdout",
     "output_type": "stream",
     "text": [
      "The cheapest route will take:\n",
      "18 hours\n"
     ]
    }
   ],
   "source": [
    "\n",
    "for city in cheapRoute:\n",
    "    cheapCost =  costs.get(city)\n",
    "    \n",
    "\n",
    "print(\"The cheapest route will take:\")\n",
    "print('%s hours' % cheapCost)\n"
   ]
  },
  {
   "cell_type": "code",
   "execution_count": 44,
   "metadata": {
    "scrolled": true
   },
   "outputs": [
    {
     "data": {
      "image/png": "[encoded data removed]",
      "text/plain": [
       "<Figure size 432x288 with 1 Axes>"
      ]
     },
     "metadata": {},
     "output_type": "display_data"
    }
   ],
   "source": [
    "from matplotlib import pyplot as plt\n",
    "\n",
    "\n",
    "plt.bar([\"Breadth-First Search\", \"Dijkstra's\"], [bfsCost, cheapCost])\n",
    "plt.ylabel(\"Hours to Drive Route\")\n",
    "plt.suptitle(\"Comparing Shortest Path Algorithms\")\n",
    "plt.title(\"Breadth-First vs Dijkstra's Algorithm\")\n",
    "\n",
    "plt.show()"
   ]
  },
  {
   "cell_type": "code",
   "execution_count": 45,
   "metadata": {},
   "outputs": [
    {
     "data": {
      "image/png": "[encoded data removed]",
      "text/plain": [
       "<Figure size 432x288 with 1 Axes>"
      ]
     },
     "metadata": {},
     "output_type": "display_data"
    }
   ],
   "source": [
    "plt.bar([\"Breadth-First Search\", \"Dijkstra's\"], [len(bfsPath)-2, len(cheapRoute)-2])\n",
    "plt.ylabel(\"Number of Intraroute Cities\")\n",
    "plt.suptitle(\"Comparing Shortest Path Algorithms\")\n",
    "plt.title(\"Breadth-First vs Dijkstra's Algorithm\")\n",
    "plt.show()"
   ]
  },
  {
   "cell_type": "markdown",
   "metadata": {},
   "source": [
    "#### Executive Summary\n",
    "\n",
    "Both of the above algorithms have their uses, and perform well at the tasks for which they were designed. While breadth-first cannot account for edge weights, it produced a far shorter paths in terms of node counts. Dijkstra's, on the other hand, required many more nodes (eight connecting nodes versus five for breadth-first), but it solved the route in nearly one-third the drivetime."
   ]
  }
 ],
 "metadata": {
  "file_extension": ".py",
  "kernelspec": {
   "display_name": "Python 3",
   "language": "python",
   "name": "python3"
  },
  "language_info": {
   "codemirror_mode": {
    "name": "ipython",
    "version": 3
   },
   "file_extension": ".py",
   "mimetype": "text/x-python",
   "name": "python",
   "nbconvert_exporter": "python",
   "pygments_lexer": "ipython3",
   "version": "3.6.5"
  },
  "mimetype": "text/x-python",
  "name": "python",
  "npconvert_exporter": "python",
  "pygments_lexer": "ipython3",
  "version": 3
 },
 "nbformat": 4,
 "nbformat_minor": 2
}
