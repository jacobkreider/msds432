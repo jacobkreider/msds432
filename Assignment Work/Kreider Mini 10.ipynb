{
  "nbformat": 4,
  "nbformat_minor": 0,
  "metadata": {
    "colab": {
      "name": "Kreider Mini Assignment 10.ipynb",
      "version": "0.3.2",
      "provenance": [],
      "collapsed_sections": []
    },
    "kernelspec": {
      "name": "python3",
      "display_name": "Python 3"
    }
  },
  "cells": [
    {
      "metadata": {
        "id": "8phZ11AlZDh1",
        "colab_type": "text"
      },
      "cell_type": "markdown",
      "source": [
        "### Mini Programming Assignment 10: Implement a K-Nearest Neighbors Algorithm\n",
        "##### *Notebook created by Jacob Kreider*\n",
        "\n",
        "In the following notebook, I will create a K-Neearest Neighbors algorithm (KNN, hereafter), that can recommend grocery products to customers as they are shopping. As proof of concept, I will use only five products, but attempt to write the algorithm in a way that it could be used for unlimited products or unlimited customers. \n",
        "\n"
      ]
    },
    {
      "metadata": {
        "id": "Sgx-sCCFLT27",
        "colab_type": "code",
        "colab": {}
      },
      "cell_type": "code",
      "source": [
        "import numpy as np\n",
        "import pandas as pd\n",
        "from random import randint, seed\n",
        "import seaborn"
      ],
      "execution_count": 0,
      "outputs": []
    },
    {
      "metadata": {
        "id": "_Wng-ElTZn7I",
        "colab_type": "text"
      },
      "cell_type": "markdown",
      "source": [
        "First, we will generate random values for 50 customers, with a 1 signifying that they bought the product in question, and a 0 signifying they did not:"
      ]
    },
    {
      "metadata": {
        "id": "n8Fzxb6vLZ3F",
        "colab_type": "code",
        "outputId": "71232c58-484b-4785-d7e7-a0993c1e7076",
        "colab": {
          "base_uri": "https://localhost:8080/",
          "height": 989
        }
      },
      "cell_type": "code",
      "source": [
        "# Set random seed so results can be replicated\n",
        "seed(97)\n",
        "\n",
        "# Initililize a list of length(number of customers) with arrays of \n",
        "# length (number of products)\n",
        "Customer = [[0,0,0,0,0] for i in range(50)]\n",
        "\n",
        "\n",
        "for n in range(50): # for each customer in list\n",
        "  Customer[n] = np.ones(5) # set all products to one\n",
        "  Customer[n][randint(0,4):5] = 0 # randomly set some or all to zero\n",
        "  np.random.shuffle(Customer[n]) # Shuffle the arrays so zeros aren't always consecutive\n",
        "\n",
        "  # Convert to dataframe for easier viewing\n",
        "ShoppingData = pd.DataFrame(Customer, columns = [\"Bread\", \"Eggs\", \"Milk\"\n",
        "                                                , \"Soda\", \"Butter\"])\n",
        "ShoppingData.index.name = \"Customer #\"\n",
        "\n",
        "# Print the data for examination\n",
        "print(ShoppingData)"
      ],
      "execution_count": 102,
      "outputs": [
        {
          "output_type": "stream",
          "text": [
            "            Bread  Eggs  Milk  Soda  Butter\n",
            "Customer #                                 \n",
            "0             0.0   0.0   0.0   1.0     0.0\n",
            "1             1.0   1.0   0.0   1.0     0.0\n",
            "2             0.0   0.0   1.0   0.0     1.0\n",
            "3             0.0   0.0   0.0   0.0     0.0\n",
            "4             1.0   1.0   1.0   1.0     0.0\n",
            "5             0.0   0.0   0.0   0.0     0.0\n",
            "6             1.0   1.0   0.0   1.0     1.0\n",
            "7             0.0   0.0   0.0   0.0     0.0\n",
            "8             0.0   0.0   0.0   0.0     0.0\n",
            "9             0.0   1.0   0.0   1.0     0.0\n",
            "10            1.0   1.0   0.0   0.0     0.0\n",
            "11            0.0   0.0   0.0   0.0     0.0\n",
            "12            0.0   0.0   0.0   0.0     0.0\n",
            "13            0.0   0.0   1.0   1.0     1.0\n",
            "14            1.0   0.0   1.0   0.0     1.0\n",
            "15            0.0   0.0   0.0   0.0     0.0\n",
            "16            1.0   1.0   0.0   0.0     0.0\n",
            "17            0.0   0.0   0.0   1.0     0.0\n",
            "18            1.0   0.0   0.0   1.0     0.0\n",
            "19            0.0   0.0   0.0   0.0     1.0\n",
            "20            0.0   0.0   0.0   1.0     1.0\n",
            "21            1.0   1.0   1.0   0.0     0.0\n",
            "22            0.0   1.0   1.0   1.0     1.0\n",
            "23            0.0   0.0   0.0   1.0     0.0\n",
            "24            0.0   0.0   1.0   0.0     0.0\n",
            "25            0.0   0.0   0.0   0.0     0.0\n",
            "26            0.0   1.0   0.0   0.0     0.0\n",
            "27            1.0   1.0   0.0   1.0     1.0\n",
            "28            1.0   1.0   0.0   1.0     1.0\n",
            "29            1.0   0.0   0.0   0.0     0.0\n",
            "30            0.0   0.0   0.0   0.0     0.0\n",
            "31            0.0   0.0   0.0   0.0     1.0\n",
            "32            0.0   0.0   0.0   0.0     0.0\n",
            "33            0.0   0.0   0.0   0.0     0.0\n",
            "34            1.0   0.0   1.0   1.0     1.0\n",
            "35            1.0   1.0   1.0   0.0     1.0\n",
            "36            0.0   1.0   0.0   0.0     1.0\n",
            "37            1.0   1.0   1.0   0.0     1.0\n",
            "38            0.0   0.0   0.0   0.0     0.0\n",
            "39            0.0   0.0   0.0   0.0     0.0\n",
            "40            1.0   1.0   0.0   1.0     0.0\n",
            "41            0.0   0.0   0.0   0.0     0.0\n",
            "42            0.0   0.0   1.0   0.0     0.0\n",
            "43            0.0   1.0   0.0   0.0     0.0\n",
            "44            0.0   0.0   0.0   0.0     0.0\n",
            "45            1.0   1.0   1.0   0.0     1.0\n",
            "46            0.0   0.0   0.0   0.0     1.0\n",
            "47            1.0   1.0   0.0   1.0     1.0\n",
            "48            0.0   1.0   0.0   0.0     0.0\n",
            "49            0.0   1.0   0.0   0.0     1.0\n"
          ],
          "name": "stdout"
        }
      ]
    },
    {
      "metadata": {
        "id": "L2x5k5D_bLyE",
        "colab_type": "text"
      },
      "cell_type": "markdown",
      "source": [
        "Next, we will find the distance between each product by taking the square root of the sum of the squared difference between each:"
      ]
    },
    {
      "metadata": {
        "id": "1Y1sMFA2tyMT",
        "colab_type": "code",
        "colab": {}
      },
      "cell_type": "code",
      "source": [
        "# Transpose the data to make it a bit easier to work with\n",
        "customerTranspose = np.array(Customer).T\n",
        "\n",
        "# Initialize an array of zeros to fill with our distance values\n",
        "primaryFood = np.zeros(shape=(5, 5))\n",
        "\n",
        "for food in range(0, 5): # for each product\n",
        "    for otherFood in range(0, 5): # # compare it to each other product\n",
        "      foodScore = 0 # A score that starts over at each reset of otherFood\n",
        "      customerNum = 0 # The starting index for our while loop\n",
        "      while customerNum < 50: # As long as our customerNum is within range\n",
        "        # Find the squared difference of the products\n",
        "        itemScores = ((customerTranspose[food][customerNum] \n",
        "                             - customerTranspose[otherFood][customerNum]) ** 2)\n",
        "        # Add to the total sum of squared differences\n",
        "        foodScore += itemScores\n",
        "        # Increase our customer index\n",
        "        customerNum += 1\n",
        "      # Take the square root once all the customers have been used\n",
        "      calculateScores = foodScore**0.5\n",
        "                          \n",
        "      # Update our distance value table\n",
        "      primaryFood[food][otherFood] = calculateScores\n",
        "        \n"
      ],
      "execution_count": 0,
      "outputs": []
    },
    {
      "metadata": {
        "id": "QHMmksVBYSKL",
        "colab_type": "text"
      },
      "cell_type": "markdown",
      "source": [
        "We can see our distance values between each product in the table below:"
      ]
    },
    {
      "metadata": {
        "id": "Wq2lJhyfYW_T",
        "colab_type": "code",
        "colab": {
          "base_uri": "https://localhost:8080/",
          "height": 129
        },
        "outputId": "30f06474-291d-4f67-b059-6b3aa3a226a6"
      },
      "cell_type": "code",
      "source": [
        "knnResults = pd.DataFrame(primaryFood, columns = [\"Bread\", \"Eggs\", \"Milk\"\n",
        "                                                 , \"Soda\", \"Butter\"]\n",
        "                                       ,index = [\"Bread\", \"Eggs\", \"Milk\"\n",
        "                                                 , \"Soda\", \"Butter\"])\n",
        "print(knnResults)"
      ],
      "execution_count": 99,
      "outputs": [
        {
          "output_type": "stream",
          "text": [
            "           Bread      Eggs      Milk      Soda    Butter\n",
            "Bread   0.000000  3.605551  3.872983  3.872983  4.000000\n",
            "Eggs    3.605551  0.000000  4.242641  4.242641  4.123106\n",
            "Milk    3.872983  4.242641  0.000000  4.000000  4.795832\n",
            "Soda    3.872983  4.242641  4.000000  0.000000  3.872983\n",
            "Butter  4.000000  4.123106  4.795832  3.872983  0.000000\n"
          ],
          "name": "stdout"
        }
      ]
    },
    {
      "metadata": {
        "id": "_HuIqZSGcQwx",
        "colab_type": "text"
      },
      "cell_type": "markdown",
      "source": [
        "Next, we will generate a heatmap of the product distances. The lighter the shade, the closer the products."
      ]
    },
    {
      "metadata": {
        "id": "dgwYU08VYp6Z",
        "colab_type": "code",
        "colab": {
          "base_uri": "https://localhost:8080/",
          "height": 362
        },
        "outputId": "d23929cb-449e-40b4-982b-9faf0341f15d"
      },
      "cell_type": "code",
      "source": [
        "ax = plt.axes()\n",
        "seaborn.heatmap(knnResults,ax = ax, robust = True,vmin = 3, vmax = 4.8, cmap = \"BuPu\")\n",
        "\n",
        "ax.set_title('Heatmap of KNN Distance Between Grocery Products')\n",
        "plt.show()"
      ],
      "execution_count": 101,
      "outputs": [
        {
          "output_type": "display_data",
          "data": {
            "image/png": "[encoded data removed]",
            "text/plain": [
              "<Figure size 576x396 with 2 Axes>"
            ]
          },
          "metadata": {
            "tags": []
          }
        }
      ]
    },
    {
      "metadata": {
        "id": "72mFRyr0cg4f",
        "colab_type": "text"
      },
      "cell_type": "markdown",
      "source": [
        "If we wanted to make recommendations based on other customers, rather than on product distances, we could modify the above algorithm as follws:"
      ]
    },
    {
      "metadata": {
        "id": "lB4I6OXMPRZy",
        "colab_type": "code",
        "colab": {
          "base_uri": "https://localhost:8080/",
          "height": 363
        },
        "outputId": "d43e129f-d7ba-4ff5-b5d8-d57a5351efad"
      },
      "cell_type": "code",
      "source": [
        "primaryCustomer = np.zeros(shape=(50, 50))\n",
        "\n",
        "for customer in range(0, 50):\n",
        "    for pair in range(0, 50):\n",
        "      # Since there's only five products, I hard coded the index numbers here,\n",
        "      # but this obviously wouldn't work if the number of products increased much\n",
        "      calculateScores = (((Customer[customer][0] - Customer[pair][0]) ** 2\n",
        "                           + (Customer[customer][1] - Customer[pair][1]) ** 2\n",
        "                           + (Customer[customer][2] - Customer[pair][2]) ** 2\n",
        "                           + (Customer[customer][3] - Customer[pair][3]) ** 2\n",
        "                           + (Customer[customer][4] - Customer[pair][4]) ** 2) ** 0.5)\n",
        "      primaryCustomer[customer][pair] = calculateScores\n",
        "\n",
        "knnResultsCustomer = pd.DataFrame(primaryCustomer)\n",
        "\n",
        "ax = plt.axes()\n",
        "seaborn.heatmap(knnResultsCustomer,ax = ax, robust = True,vmin = 0, vmax = 2, cmap = \"BuPu\")\n",
        "\n",
        "ax.set_title('Heatmap of KNN Distance Between Grocery Products')\n",
        "plt.show()"
      ],
      "execution_count": 106,
      "outputs": [
        {
          "output_type": "display_data",
          "data": {
            "image/png": "[encoded data removed]",
            "text/plain": [
              "<Figure size 576x396 with 2 Axes>"
            ]
          },
          "metadata": {
            "tags": []
          }
        }
      ]
    },
    {
      "metadata": {
        "id": "3DWiQg-ac2Lv",
        "colab_type": "text"
      },
      "cell_type": "markdown",
      "source": [
        "That heatmap is obviously not quite as effective. The 'k' in KNN is important here-- we likely only want to consider t a few closest neighbors. Let's look at an example:"
      ]
    },
    {
      "metadata": {
        "id": "MMjnMRhhSk63",
        "colab_type": "code",
        "colab": {
          "base_uri": "https://localhost:8080/",
          "height": 222
        },
        "outputId": "fb86dc11-564a-4df7-bd14-f3d00fca71ea"
      },
      "cell_type": "code",
      "source": [
        "# We'll use the top 10 neigbors for customer 10\n",
        "\n",
        "Customer10Nearest = knnResultsCustomer[10].nlargest(10)\n",
        "Customer10Nearest"
      ],
      "execution_count": 110,
      "outputs": [
        {
          "output_type": "execute_result",
          "data": {
            "text/plain": [
              "13    2.236068\n",
              "2     2.000000\n",
              "20    2.000000\n",
              "22    2.000000\n",
              "34    2.000000\n",
              "0     1.732051\n",
              "14    1.732051\n",
              "17    1.732051\n",
              "19    1.732051\n",
              "23    1.732051\n",
              "Name: 10, dtype: float64"
            ]
          },
          "metadata": {
            "tags": []
          },
          "execution_count": 110
        }
      ]
    },
    {
      "metadata": {
        "id": "R6yQ9F7GeI7E",
        "colab_type": "text"
      },
      "cell_type": "markdown",
      "source": [
        "#### Executive Summary\n",
        "\n",
        "We could explore the above results to attempt to determine the commonalities between customer 10 and his ten nearest neighbors, but in a grocery store setting, it makes more sense to find the nearest neighbors of the products we sell, rather than the consumers buying them. After all, the relationship we are concerned with should still be preserved.\n",
        "\n",
        "In other setting, it may make more sense to focus on distance between consumer-- products that are consumed at different times, such as movies or experiences, may not match as well when directly compared. \n",
        "\n",
        "KNN is a useful algorithm that can give management insight into product relationships and potentially uncover interesting avenues for revenue, so it should be in the toolbox of every data engineer. "
      ]
    },
    {
      "metadata": {
        "id": "VXi-pipmfQtV",
        "colab_type": "code",
        "colab": {}
      },
      "cell_type": "code",
      "source": [
        ""
      ],
      "execution_count": 0,
      "outputs": []
    }
  ]
}