{
 "cells": [
  {
   "cell_type": "code",
   "execution_count": 1,
   "metadata": {},
   "outputs": [],
   "source": [
    "from numpy.random import seed\n",
    "from numpy.random import randint\n",
    "import numpy as np\n",
    "import time\n",
    "import matplotlib.pyplot as plt\n",
    "import pandas as pd\n",
    "import string, random"
   ]
  },
  {
   "cell_type": "code",
   "execution_count": 2,
   "metadata": {},
   "outputs": [
    {
     "data": {
      "text/plain": [
       "False"
      ]
     },
     "execution_count": 2,
     "metadata": {},
     "output_type": "execute_result"
    }
   ],
   "source": [
    "#Create a list of 100 names (randomly pick 10 characters e.g. abcdefghij, \n",
    "#any order is fine, just make sure there are no duplicates in the name)\n",
    "#Store these names as you generate them (it should be an unsorted array)\n",
    "\n",
    "namesArray = np.array([])\n",
    "\n",
    "while len(namesArray) <= 100:\n",
    "    namesArray = np.append(namesArray, ''.join(random.sample(string.ascii_lowercase,10)).capitalize())\n",
    "\n",
    "    \n",
    "#Making sure there are no duplicates\n",
    "def contains_duplicates(X):\n",
    "    return len(np.unique(X)) != len(X) #Tells me if the length of the unique array != namesArray\n",
    "\n",
    "contains_duplicates(namesArray) #Will return 'FALSE' if no duplicates exist"
   ]
  },
  {
   "cell_type": "code",
   "execution_count": 3,
   "metadata": {},
   "outputs": [],
   "source": [
    "#Lookup/search any five names from this unsorted array using linear search, and capture the time\n",
    "\n",
    "#Let's define simple search\n",
    "# Python code for linearly search x in arr[]. If x \n",
    "# is present then return its location, otherwise \n",
    "# return -1 \n",
    "def search(arr, x): \n",
    "\n",
    "    for i in range(len(arr)): \n",
    "\n",
    "        if arr[i] == x: \n",
    "            return i \n",
    "\n",
    "    return -1\n",
    "\n",
    "#Let's pick some random elements from the array to search for:\n",
    "seed(123)\n",
    "searchTerms = np.random.choice(namesArray, 5, replace = False)\n",
    "\n",
    "#And pass this array into our simple search function, and time it 1,000 times, taking the average:\n",
    "\n",
    "start = time.clock()\n",
    "for i in range(1000):\n",
    "    for term in searchTerms:\n",
    "        answer = search(namesArray, term)\n",
    "stop = time.clock()\n",
    "simpleTime = (stop - start)/1000\n",
    "\n"
   ]
  },
  {
   "cell_type": "code",
   "execution_count": 4,
   "metadata": {},
   "outputs": [],
   "source": [
    "#Now store the above 100 names in a dictionary data structure and look/search \n",
    "#for the same five names in the dictionary\n",
    "\n",
    "dictOfNames = { namesArray[i] : i for i in range(0, len(namesArray) ) }\n",
    "\n",
    "#Will run 1,000 times and take the average time:\n",
    "start = time.clock()\n",
    "for i in range(1000):\n",
    "    for term in searchTerms:\n",
    "            if term == dictOfNames:\n",
    "                (item)\n",
    "stop =time.clock()\n",
    "dictTime = (stop - start)/1000\n"
   ]
  },
  {
   "cell_type": "code",
   "execution_count": 5,
   "metadata": {},
   "outputs": [
    {
     "data": {
      "image/png": "[encoded data removed]",
      "text/plain": [
       "<Figure size 432x288 with 1 Axes>"
      ]
     },
     "metadata": {},
     "output_type": "display_data"
    }
   ],
   "source": [
    "#Capture the time that took to lookup the names using linear search and then using dictionary, \n",
    "#draw a graph to show the difference\n",
    "\n",
    "objects = ('Linear Search', 'Dictionary Search')\n",
    "y_pos = np.arange(len(objects))\n",
    "performance = [simpleTime, dictTime]\n",
    " \n",
    "plt.bar(y_pos, performance, align='center', alpha=0.5)\n",
    "plt.xticks(y_pos, objects)\n",
    "plt.ylabel('Average Time to Execute')\n",
    "plt.title('(Unsorted Data)')\n",
    "plt.suptitle('Measuring Search Performance')\n",
    "plt.style.use('seaborn-colorblind')\n",
    " \n",
    "plt.show()"
   ]
  },
  {
   "cell_type": "code",
   "execution_count": 6,
   "metadata": {},
   "outputs": [],
   "source": [
    "#Now sort the array (use any sorting algorithm that you have learned so far \n",
    "#and justify why are you using it)\n",
    "\n",
    "sortedNames = np.sort(namesArray)\n"
   ]
  },
  {
   "cell_type": "markdown",
   "metadata": {},
   "source": [
    "In the above sort, I chose to use the built-in sort function from Numpy, as it performs far better than any of the sort functions I've learned elsewhere. It comes very close to O(log(n)) efficiency.\n"
   ]
  },
  {
   "cell_type": "code",
   "execution_count": 7,
   "metadata": {},
   "outputs": [
    {
     "data": {
      "text/plain": [
       "array(['Skqmpgbeih', 'Qjzvaoyrec', 'Yarivlpnhf', 'Lctxwvhisr',\n",
       "       'Jlbtahdrkn', 'Svtnzobpky'], dtype='<U32')"
      ]
     },
     "execution_count": 7,
     "metadata": {},
     "output_type": "execute_result"
    }
   ],
   "source": [
    "#Pick the names from this array that are at 10th, 30th, 50th, 70th, 90th, and 100th positions, \n",
    "#store them in a temporary array somewhere for later use\n",
    "\n",
    "indexKeep = [9,29,49,69, 89, 99] #Since we're selecting by position, not index, we'll subtract 1 from each\n",
    "newSearches = np.take(namesArray, indexKeep)\n",
    "newSearches"
   ]
  },
  {
   "cell_type": "code",
   "execution_count": 8,
   "metadata": {},
   "outputs": [],
   "source": [
    "#Now search for these six names in the main array (one by one) using linear search, \n",
    "#then binary search and capture the time it takes using both algorithms\n",
    "\n",
    "#Linear Search (taking average of 1K searches again):\n",
    "\n",
    "start = time.clock()\n",
    "for i in range(1000):\n",
    "    for term in newSearches:\n",
    "        answer = search(namesArray, term)\n",
    "stop = time.clock()\n",
    "simpleTimeNew = (stop - start)/1000\n",
    "\n",
    "simpleTimeNew\n",
    "\n",
    "#Binary Search:\n",
    "\n",
    "def binarySearch(list, item):\n",
    "    low = 0\n",
    "    high = len(list) - 1\n",
    "    \n",
    "    while low <= high:\n",
    "        mid = (low + high)\n",
    "        guess = list[mid]\n",
    "        if guess == item:\n",
    "            return mid\n",
    "        if guess > item:\n",
    "            high = mid - 1\n",
    "        else:\n",
    "            low = mid + 1\n",
    "    return None\n",
    "\n",
    "start = time.clock()\n",
    "for i in range(1000):\n",
    "    for item in newSearches:\n",
    "        binarySearch(namesArray, item)\n",
    "stop = time.clock()\n",
    "\n",
    "binaryTimeNew = (stop - start)/1000\n",
    "\n",
    "#Now look up for these names in the dictionary and capture the time\n",
    "\n",
    "start = time.clock()\n",
    "for i in range(1000):\n",
    "    for term in newSearches:\n",
    "            if term in dictOfNames:\n",
    "                term\n",
    "stop =time.clock()\n",
    "dictTimeNew = (stop - start)/1000\n",
    "\n"
   ]
  },
  {
   "cell_type": "code",
   "execution_count": 9,
   "metadata": {},
   "outputs": [
    {
     "data": {
      "image/png": "[encoded data removed]",
      "text/plain": [
       "<Figure size 432x288 with 1 Axes>"
      ]
     },
     "metadata": {},
     "output_type": "display_data"
    }
   ],
   "source": [
    "#Draw another graph comparing times of linear search, binary search and dictionary search \n",
    "#that took to search for the five names\n",
    "\n",
    "objects = ('Linear Search', 'Binary Search', 'Dictionary Search')\n",
    "y_pos = np.arange(len(objects))\n",
    "performance = [simpleTimeNew,binaryTimeNew, dictTimeNew]\n",
    " \n",
    "plt.bar(y_pos, performance, align='center', alpha=0.5)\n",
    "plt.xticks(y_pos, objects)\n",
    "plt.ylabel('Average Time to Execute')\n",
    "plt.title('(Data Sorted for Linear and Binary Searches)')\n",
    "plt.suptitle('Measuring Search Performance')\n",
    "plt.style.use('seaborn-colorblind')\n",
    " \n",
    "plt.show()"
   ]
  },
  {
   "cell_type": "markdown",
   "metadata": {},
   "source": [
    "### Executive Summary\n",
    "\n",
    "In the above report, we tested several methods for searching relatively large data structures for specific items- in this case, names. We stored the names in both sorted and unsorted arrays, as well as in a dictionary format that makes use of hash table structures.\n",
    "\n",
    "Due to the nature of has tables, where these strings (names) are mapped to number values, searches and \"lookup\" tasks outperform simple, linear search in both sorted and unsorted data, and even binary search on sorted arrays.\n",
    "\n",
    "It is clear that if searches will need to be done regularly on stored data, hash tables (or dictionaries,in Python) are the clear choice for maximizing efficiency and minimizing run times.\n",
    "\n"
   ]
  }
 ],
 "metadata": {
  "kernelspec": {
   "display_name": "Python 3",
   "language": "python",
   "name": "python3"
  },
  "language_info": {
   "codemirror_mode": {
    "name": "ipython",
    "version": 3
   },
   "file_extension": ".py",
   "mimetype": "text/x-python",
   "name": "python",
   "nbconvert_exporter": "python",
   "pygments_lexer": "ipython3",
   "version": "3.6.5"
  }
 },
 "nbformat": 4,
 "nbformat_minor": 2
}
