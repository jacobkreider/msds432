{
 "cells": [
  {
   "cell_type": "code",
   "execution_count": 22,
   "metadata": {},
   "outputs": [],
   "source": [
    "from numpy.random import seed\n",
    "from numpy.random import randint\n",
    "import numpy as np\n",
    "import time\n",
    "import matplotlib.pyplot as plt\n",
    "import pandas as pd\n"
   ]
  },
  {
   "cell_type": "code",
   "execution_count": 23,
   "metadata": {},
   "outputs": [],
   "source": [
    "#Begin with the base code for selection sort as described in chapter 2 \n",
    "#of Grokking Algorithms (Bhargava 2016)."
   ]
  },
  {
   "cell_type": "code",
   "execution_count": 24,
   "metadata": {},
   "outputs": [],
   "source": [
    "# We start with a function that finds the smallest value in our array\n",
    "\n",
    "def findSmallest(arr):\n",
    "    smallest = arr[0] # stores the smallest value\n",
    "    smallestIndex = 0 # stores the index of the smallest value\n",
    "    for i in range(1, len(arr)):\n",
    "        if arr[i] < smallest:\n",
    "            smallest = arr[i]\n",
    "            smallestIndex = i\n",
    "    return smallestIndex"
   ]
  },
  {
   "cell_type": "code",
   "execution_count": 25,
   "metadata": {},
   "outputs": [],
   "source": [
    "# Our findSmallest function can be used in the selection sort algorithm\n",
    "\n",
    "def selectionSort(arr):\n",
    "    newArr = []\n",
    "    arrList = arr.tolist()\n",
    "    for i in range(len(arrList)):\n",
    "        smallest = findSmallest(arrList) #Finds the smallest in the array\n",
    "        newArr.append(arrList.pop(smallest))\n",
    "    return newArr"
   ]
  },
  {
   "cell_type": "code",
   "execution_count": 26,
   "metadata": {},
   "outputs": [],
   "source": [
    "#Compare alternative sorting algorithms.\n",
    "# Here, we'll use a sorting algorithm that works on numpy arrays without needing pop or\n",
    "# to convert to a list\n",
    "\n",
    "def selectionSort2(arr):\n",
    "    arr = np.array(arr)\n",
    "    for i in range(len(arr)):\n",
    "        j = arr[i:].argmin()\n",
    "        arr[i], arr[i + j] = arr[i + j], arr[i]\n",
    "    return arr\n",
    "\n"
   ]
  },
  {
   "cell_type": "code",
   "execution_count": 27,
   "metadata": {},
   "outputs": [],
   "source": [
    "#Set up five data arrays (5,000 numbers, 10,000 numbers, 15,000 numbers, 20,000 numbers, \n",
    "#and 25,000 numbers) using a uniform random number generator. \n",
    "#Ensure that a common random number seed is used to generate each of the arrays. \n",
    "#(If relevant to this assignment) Follow general course instructions for setting the \n",
    "#seed value of the random number generator.\n",
    "\n",
    "\n",
    "#Instead of creating arrays one-by-one, we'll use a loop to create a dict of arrays\n",
    "#The size of the array is our key and the array is our value\n",
    "\n",
    "arraySizes = (5000, 10000, 15000, 20000, 25000)\n",
    "\n",
    "myArray = dict()\n",
    "\n",
    "for size in arraySizes:\n",
    "    seed(7769)\n",
    "    myArray[size] = randint(99999, size = size)\n",
    "\n"
   ]
  },
  {
   "cell_type": "code",
   "execution_count": 28,
   "metadata": {},
   "outputs": [],
   "source": [
    "#Execute the base algorithm for each of the random number arrays, \n",
    "#noting the execution time with each execution. \n",
    "\n",
    "\n",
    "#Let's make our runtime variables for the grokking algorithms book example array\n",
    "\n",
    "start = time.clock()\n",
    "sort5k = selectionSort(myArray[5000])\n",
    "stop  = time.clock()\n",
    "time5k = stop - start\n",
    "\n",
    "start = time.clock()\n",
    "sort10k = selectionSort(myArray[10000])\n",
    "stop  = time.clock()\n",
    "time10k = stop - start\n",
    "\n",
    "start = time.clock()\n",
    "sort15k = selectionSort(myArray[15000])\n",
    "stop = time.clock()\n",
    "time15k = stop - start\n",
    "\n",
    "start = time.clock()\n",
    "sort20k = selectionSort(myArray[20000])\n",
    "stop = time.clock()\n",
    "time20k = stop - start\n",
    "\n",
    "start = time.clock()\n",
    "sort25k = selectionSort(myArray[25000])\n",
    "stop = time.clock()\n",
    "time25k = stop - start\n"
   ]
  },
  {
   "cell_type": "code",
   "execution_count": 29,
   "metadata": {},
   "outputs": [],
   "source": [
    "#Let's go through this same process with our second sort algorithm\n",
    "start = time.clock()\n",
    "sort5k2 = selectionSort2(myArray[5000])\n",
    "stop  = time.clock()\n",
    "time5k2 = stop - start\n",
    "\n",
    "start = time.clock()\n",
    "sort10k2 = selectionSort2(myArray[10000])\n",
    "stop  = time.clock()\n",
    "time10k2 = stop - start\n",
    "\n",
    "start = time.clock()\n",
    "sort15k2 = selectionSort2(myArray[15000])\n",
    "stop = time.clock()\n",
    "time15k2 = stop - start\n",
    "\n",
    "start = time.clock()\n",
    "sort20k2 = selectionSort2(myArray[20000])\n",
    "stop = time.clock()\n",
    "time20k2 = stop - start\n",
    "\n",
    "start = time.clock()\n",
    "sort25k2 = selectionSort2(myArray[25000])\n",
    "stop = time.clock()\n",
    "time25k2 = stop - start\n"
   ]
  },
  {
   "cell_type": "code",
   "execution_count": 30,
   "metadata": {},
   "outputs": [],
   "source": [
    "#We'll try this same sort with numpy's built-in sort\n",
    "\n",
    "start = time.clock()\n",
    "sort5k3 = np.sort(myArray[5000])\n",
    "stop  = time.clock()\n",
    "time5k3 = stop - start\n",
    "\n",
    "start = time.clock()\n",
    "sort10k3 = np.sort(myArray[10000])\n",
    "stop  = time.clock()\n",
    "time10k3 = stop - start\n",
    "\n",
    "start = time.clock()\n",
    "sort15k3 = np.sort(myArray[15000])\n",
    "stop = time.clock()\n",
    "time15k3 = stop - start\n",
    "\n",
    "start = time.clock()\n",
    "sort20k3 = np.sort(myArray[20000])\n",
    "stop = time.clock()\n",
    "time20k3 = stop - start\n",
    "\n",
    "start = time.clock()\n",
    "sort25k3 = np.sort(myArray[25000])\n",
    "stop = time.clock()\n",
    "time25k3 = stop - start\n"
   ]
  },
  {
   "cell_type": "code",
   "execution_count": 31,
   "metadata": {},
   "outputs": [
    {
     "name": "stdout",
     "output_type": "stream",
     "text": [
      "Table 1: Run times for various sort algorithms, rounded to 6 digits:\n"
     ]
    },
    {
     "data": {
      "text/html": [
       "<div>\n",
       "<style scoped>\n",
       "    .dataframe tbody tr th:only-of-type {\n",
       "        vertical-align: middle;\n",
       "    }\n",
       "\n",
       "    .dataframe tbody tr th {\n",
       "        vertical-align: top;\n",
       "    }\n",
       "\n",
       "    .dataframe thead th {\n",
       "        text-align: right;\n",
       "    }\n",
       "</style>\n",
       "<table border=\"1\" class=\"dataframe\">\n",
       "  <thead>\n",
       "    <tr style=\"text-align: right;\">\n",
       "      <th></th>\n",
       "      <th>0</th>\n",
       "      <th>1</th>\n",
       "      <th>2</th>\n",
       "      <th>3</th>\n",
       "    </tr>\n",
       "  </thead>\n",
       "  <tbody>\n",
       "    <tr>\n",
       "      <th>0</th>\n",
       "      <td>ArraySize</td>\n",
       "      <td>grokkingSortTime</td>\n",
       "      <td>Numpy-based Sort Time</td>\n",
       "      <td>Built-In Numpy Sort</td>\n",
       "    </tr>\n",
       "    <tr>\n",
       "      <th>1</th>\n",
       "      <td>5000</td>\n",
       "      <td>0.610887</td>\n",
       "      <td>0.041373</td>\n",
       "      <td>0.001335</td>\n",
       "    </tr>\n",
       "    <tr>\n",
       "      <th>2</th>\n",
       "      <td>10000</td>\n",
       "      <td>2.719221</td>\n",
       "      <td>0.091125</td>\n",
       "      <td>0.002824</td>\n",
       "    </tr>\n",
       "    <tr>\n",
       "      <th>3</th>\n",
       "      <td>15000</td>\n",
       "      <td>5.60214</td>\n",
       "      <td>0.178453</td>\n",
       "      <td>0.002187</td>\n",
       "    </tr>\n",
       "    <tr>\n",
       "      <th>4</th>\n",
       "      <td>20000</td>\n",
       "      <td>14.415737</td>\n",
       "      <td>0.302538</td>\n",
       "      <td>0.001739</td>\n",
       "    </tr>\n",
       "    <tr>\n",
       "      <th>5</th>\n",
       "      <td>25000</td>\n",
       "      <td>19.724495</td>\n",
       "      <td>0.449776</td>\n",
       "      <td>0.00244</td>\n",
       "    </tr>\n",
       "  </tbody>\n",
       "</table>\n",
       "</div>"
      ],
      "text/plain": [
       "           0                 1                      2                    3\n",
       "0  ArraySize  grokkingSortTime  Numpy-based Sort Time  Built-In Numpy Sort\n",
       "1       5000          0.610887               0.041373             0.001335\n",
       "2      10000          2.719221               0.091125             0.002824\n",
       "3      15000           5.60214               0.178453             0.002187\n",
       "4      20000         14.415737               0.302538             0.001739\n",
       "5      25000         19.724495               0.449776              0.00244"
      ]
     },
     "execution_count": 31,
     "metadata": {},
     "output_type": "execute_result"
    }
   ],
   "source": [
    "#Organize the results of the study into an table showing the size of data array and \n",
    "#the time taken to analyze the array. Compare alternative sorting algorithms.\n",
    "\n",
    "\n",
    "timeTable = pd.DataFrame(np.array([['ArraySize', 'grokkingSortTime', 'Numpy-based Sort Time', \n",
    "                                    'Built-In Numpy Sort'],\n",
    "                     [5000, round(time5k,6), round(time5k2,6), round(time5k3,6)],\n",
    "                     [10000, round(time10k,6), round(time10k2,6), round(time10k3,6)],\n",
    "                     [15000, round(time15k,6), round(time15k2,6), round(time15k3,6)],\n",
    "                     [20000, round(time20k,6), round(time20k2,6), round(time20k3,6)],\n",
    "                     [25000, round(time25k,6), round(time25k2,6), round(time25k3,6)]]))\n",
    "print(\"Table 1: Run times for various sort algorithms, rounded to 6 digits:\")\n",
    "timeTable\n"
   ]
  },
  {
   "cell_type": "code",
   "execution_count": 35,
   "metadata": {},
   "outputs": [
    {
     "data": {
      "image/png": "[encoded data removed]",
      "text/plain": [
       "<Figure size 432x288 with 1 Axes>"
      ]
     },
     "metadata": {},
     "output_type": "display_data"
    },
    {
     "name": "stdout",
     "output_type": "stream",
     "text": [
      "Chart 1\n"
     ]
    }
   ],
   "source": [
    "#Use Python matplotlib or Seaborn to generate a measure of the size of the data \n",
    "#set on the horizontal axis and with execution time in milliseconds on \n",
    "#the vertical axis. The plot should show execution time against problem size \n",
    "#for each form of the algorithm being tested.\n",
    "\n",
    "plt.plot([5000, 10000, 15000, 20000, 25000],\n",
    "        [time5k, time10k, time15k, time20k, time25k],\n",
    "        'o--',\n",
    "        [5000, 10000, 15000, 20000, 25000],\n",
    "        [time5k2, time10k2, time15k2, time20k2, time25k2],\n",
    "        'b--',\n",
    "        [5000, 10000, 15000, 20000, 25000],\n",
    "        [time5k3, time10k3, time15k3, time20k3, time25k3],\n",
    "        'k-')\n",
    "plt.xlabel('Size of Array')\n",
    "plt.ylabel('Time in Milliseconds')\n",
    "plt.title('Execution Times of Various Sorting Algorithms')\n",
    "plt.legend(['Grokking Text', 'Numpy-Friendly', 'Built-In Numpy'])\n",
    "plt.xticks(np.arange(5000, 30000, 5000))\n",
    "plt.show()\n",
    "print(\"Chart 1\")"
   ]
  },
  {
   "cell_type": "code",
   "execution_count": 36,
   "metadata": {},
   "outputs": [
    {
     "data": {
      "image/png": "[encoded data removed]",
      "text/plain": [
       "<Figure size 432x288 with 1 Axes>"
      ]
     },
     "metadata": {},
     "output_type": "display_data"
    },
    {
     "name": "stdout",
     "output_type": "stream",
     "text": [
      "Chart 2\n"
     ]
    }
   ],
   "source": [
    "plt.plot(\n",
    "        [5000, 10000, 15000, 20000, 25000],\n",
    "        [time5k2, time10k2, time15k2, time20k2, time25k2],\n",
    "        'b--',\n",
    "        [5000, 10000, 15000, 20000, 25000],\n",
    "        [time5k3, time10k3, time15k3, time20k3, time25k3],\n",
    "        'k-')\n",
    "plt.xlabel('Size of Array')\n",
    "plt.ylabel('Time in Milliseconds')\n",
    "plt.suptitle('Execution Times of Various Sorting Algorithms')\n",
    "plt.title('(With Grokking Text Algorithm Removed for Scale)')\n",
    "plt.legend([ 'Numpy-Friendly', 'Built-In Numpy'])\n",
    "plt.xticks(np.arange(5000, 30000, 5000))\n",
    "plt.show()\n",
    "print(\"Chart 2\")"
   ]
  },
  {
   "cell_type": "code",
   "execution_count": 34,
   "metadata": {},
   "outputs": [],
   "source": [
    "#Prepare a executive summary of your results, \n",
    "#referring to the table and figures you have generated. \n",
    "#Explain how your results relate to big O notation. \n",
    "#Describe your results in language that management can understand. \n",
    "#This summary should be included as comments or text paragraphs in the Jupyter notebook. \n",
    "#Explain how the algorithm works and why it is a useful to data engineers."
   ]
  },
  {
   "cell_type": "markdown",
   "metadata": {},
   "source": [
    "### Executive Summary\n",
    "\n",
    "Sorting algorithms are such a commom practice in data science that it is often easy to overlook their importance. By being used so often, they become \"second nature\" to the point where they don't even seem to be part of the analysis.\n",
    "\n",
    "However, specifically *because* they are so common, performing sorts efficiently is intergral to keeping the overhead of data intensive applications low.\n",
    "\n",
    "In the above sections, we compared the run times of three sorting algorithms: in the first, we used the method outlined in the text, *'Grokking Algorithms'* (Sort 1 hereafter); in the second, we used an algorithm that was more 'friendly' to a particular, commonly used Python package (Sort 2); in the third, we used the built-in algorithm found in that package (Sort 3).\n",
    "\n",
    "Table 1 shows us the results, but figures to six decimal places can be tough to decipher, so we also graphed the results.\n",
    "\n",
    "In Chart 1 above, it is clear that Sort 1 performed the poorest. In Big O notation, we would describe it as O(n<sup>2</sup>). Sort 2 and Sort 3, however, look similar, yet it is clear that Sort 2 is not quite as efficient as Sort 3.\n",
    "\n",
    "Chart 2, with Sort 1 removed, clears things up. We can see that Sort 3, the built-in package, performs at O(log(n)), while Sort 2 performs at O(n(log(n)). A significant difference at this scale.\n",
    "\n",
    "We have learned two important points here:\n",
    "\n",
    "1) Scale matters. By removing Sort 1 from  the second chart, we see the difference in efficiency is more pronounced than it seemed; and,\n",
    "2) Don't reinvent the wheel! The built-in, readily available sorting algorithm is more efficient than either of or in-house-created options."
   ]
  },
  {
   "cell_type": "code",
   "execution_count": null,
   "metadata": {},
   "outputs": [],
   "source": []
  }
 ],
 "metadata": {
  "kernelspec": {
   "display_name": "Python 3",
   "language": "python",
   "name": "python3"
  },
  "language_info": {
   "codemirror_mode": {
    "name": "ipython",
    "version": 3
   },
   "file_extension": ".py",
   "mimetype": "text/x-python",
   "name": "python",
   "nbconvert_exporter": "python",
   "pygments_lexer": "ipython3",
   "version": "3.6.5"
  }
 },
 "nbformat": 4,
 "nbformat_minor": 2
}
