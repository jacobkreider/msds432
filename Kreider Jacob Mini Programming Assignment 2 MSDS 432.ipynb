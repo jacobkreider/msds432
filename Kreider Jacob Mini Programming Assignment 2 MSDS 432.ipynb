{
 "cells": [
  {
   "cell_type": "code",
   "execution_count": 61,
   "metadata": {},
   "outputs": [],
   "source": [
    "from numpy.random import seed\n",
    "from numpy.random import randint\n",
    "import numpy as np\n",
    "import time\n",
    "import matplotlib.pyplot as plt\n",
    "import pandas as pd\n"
   ]
  },
  {
   "cell_type": "code",
   "execution_count": 37,
   "metadata": {},
   "outputs": [],
   "source": [
    "# We start with a function that finds the smallest value in our array\n",
    "\n",
    "def findSmallest(arr):\n",
    "    smallest = arr[0] # stores the smallest value\n",
    "    smallestIndex = 0 # stores the index of the smallest value\n",
    "    for i in range(1, len(arr)):\n",
    "        if arr[i] < smallest:\n",
    "            smallest = arr[i]\n",
    "            smallestIndex = i\n",
    "    return smallestIndex"
   ]
  },
  {
   "cell_type": "code",
   "execution_count": 38,
   "metadata": {},
   "outputs": [],
   "source": [
    "# Our findSmallest function can be used in the selection sort algorithm\n",
    "\n",
    "def selectionSort(arr):\n",
    "    newArr = []\n",
    "    arrList = arr.tolist()\n",
    "    for i in range(len(arrList)):\n",
    "        smallest = findSmallest(arrList) #Finds the smallest in the array\n",
    "        newArr.append(arrList.pop(smallest))\n",
    "    return newArr"
   ]
  },
  {
   "cell_type": "code",
   "execution_count": 39,
   "metadata": {},
   "outputs": [],
   "source": [
    "#Compare alternative sorting algorithms.\n",
    "# Here, we'll use a sorting algorithm that works on numpy arrays without needing pop or\n",
    "# to convert to a list\n",
    "\n",
    "def selectionSort2(arr):\n",
    "    arr = np.array(arr)\n",
    "    for i in range(len(arr)):\n",
    "        j = arr[i:].argmin()\n",
    "        arr[i], arr[i + j] = arr[i + j], arr[i]\n",
    "    return arr\n",
    "\n"
   ]
  },
  {
   "cell_type": "code",
   "execution_count": 40,
   "metadata": {},
   "outputs": [],
   "source": [
    "#Instead of creating arrays one-by-one, we'll use a loop to create a dict of arrays\n",
    "#The size of the array is our key and the array is our value\n",
    "\n",
    "arraySizes = (5000, 10000, 15000, 20000, 25000)\n",
    "\n",
    "myArray = dict()\n",
    "\n",
    "for size in arraySizes:\n",
    "    seed(7769)\n",
    "    myArray[size] = randint(99999, size = size)\n",
    "\n"
   ]
  },
  {
   "cell_type": "code",
   "execution_count": 41,
   "metadata": {},
   "outputs": [],
   "source": [
    "#Let's make our runtime variables for the grokking algorithms book example array\n",
    "\n",
    "start = time.clock()\n",
    "sort5k = selectionSort(myArray[5000])\n",
    "stop  = time.clock()\n",
    "time5k = stop - start\n",
    "\n",
    "start = time.clock()\n",
    "sort10k = selectionSort(myArray[10000])\n",
    "stop  = time.clock()\n",
    "time10k = stop - start\n",
    "\n",
    "start = time.clock()\n",
    "sort15k = selectionSort(myArray[15000])\n",
    "stop = time.clock()\n",
    "time15k = stop - start\n",
    "\n",
    "start = time.clock()\n",
    "sort20k = selectionSort(myArray[20000])\n",
    "stop = time.clock()\n",
    "time20k = stop - start\n",
    "\n",
    "start = time.clock()\n",
    "sort25k = selectionSort(myArray[25000])\n",
    "stop = time.clock()\n",
    "time25k = stop - start\n"
   ]
  },
  {
   "cell_type": "code",
   "execution_count": 42,
   "metadata": {},
   "outputs": [],
   "source": [
    "#Let's go through this same process with our second sort algorithm\n",
    "start = time.clock()\n",
    "sort5k2 = selectionSort2(myArray[5000])\n",
    "stop  = time.clock()\n",
    "time5k2 = stop - start\n",
    "\n",
    "start = time.clock()\n",
    "sort10k2 = selectionSort2(myArray[10000])\n",
    "stop  = time.clock()\n",
    "time10k2 = stop - start\n",
    "\n",
    "start = time.clock()\n",
    "sort15k2 = selectionSort2(myArray[15000])\n",
    "stop = time.clock()\n",
    "time15k2 = stop - start\n",
    "\n",
    "start = time.clock()\n",
    "sort20k2 = selectionSort2(myArray[20000])\n",
    "stop = time.clock()\n",
    "time20k2 = stop - start\n",
    "\n",
    "start = time.clock()\n",
    "sort25k2 = selectionSort2(myArray[25000])\n",
    "stop = time.clock()\n",
    "time25k2 = stop - start\n"
   ]
  },
  {
   "cell_type": "code",
   "execution_count": 48,
   "metadata": {},
   "outputs": [],
   "source": [
    "#We'll try this same sort with numpy's built-in sort\n",
    "\n",
    "start = time.clock()\n",
    "sort5k3 = np.sort(myArray[5000])\n",
    "stop  = time.clock()\n",
    "time5k3 = stop - start\n",
    "\n",
    "start = time.clock()\n",
    "sort10k3 = np.sort(myArray[10000])\n",
    "stop  = time.clock()\n",
    "time10k3 = stop - start\n",
    "\n",
    "start = time.clock()\n",
    "sort15k3 = np.sort(myArray[15000])\n",
    "stop = time.clock()\n",
    "time15k3 = stop - start\n",
    "\n",
    "start = time.clock()\n",
    "sort20k3 = np.sort(myArray[20000])\n",
    "stop = time.clock()\n",
    "time20k3 = stop - start\n",
    "\n",
    "start = time.clock()\n",
    "sort25k3 = np.sort(myArray[25000])\n",
    "stop = time.clock()\n",
    "time25k3 = stop - start\n"
   ]
  },
  {
   "cell_type": "code",
   "execution_count": 67,
   "metadata": {},
   "outputs": [
    {
     "data": {
      "text/html": [
       "<div>\n",
       "<style scoped>\n",
       "    .dataframe tbody tr th:only-of-type {\n",
       "        vertical-align: middle;\n",
       "    }\n",
       "\n",
       "    .dataframe tbody tr th {\n",
       "        vertical-align: top;\n",
       "    }\n",
       "\n",
       "    .dataframe thead th {\n",
       "        text-align: right;\n",
       "    }\n",
       "</style>\n",
       "<table border=\"1\" class=\"dataframe\">\n",
       "  <thead>\n",
       "    <tr style=\"text-align: right;\">\n",
       "      <th></th>\n",
       "      <th>0</th>\n",
       "      <th>1</th>\n",
       "      <th>2</th>\n",
       "      <th>3</th>\n",
       "    </tr>\n",
       "  </thead>\n",
       "  <tbody>\n",
       "    <tr>\n",
       "      <th>0</th>\n",
       "      <td>ArraySize</td>\n",
       "      <td>grokkingSortTime</td>\n",
       "      <td>Numpy-based Sort Time</td>\n",
       "      <td>Built-In Numpy Sort</td>\n",
       "    </tr>\n",
       "    <tr>\n",
       "      <th>1</th>\n",
       "      <td>5000</td>\n",
       "      <td>0.6192980000000006</td>\n",
       "      <td>0.035468000000008715</td>\n",
       "      <td>0.0013030000000071595</td>\n",
       "    </tr>\n",
       "    <tr>\n",
       "      <th>2</th>\n",
       "      <td>10000</td>\n",
       "      <td>2.5716350000000006</td>\n",
       "      <td>0.08588999999997782</td>\n",
       "      <td>0.0030899999999860484</td>\n",
       "    </tr>\n",
       "    <tr>\n",
       "      <th>3</th>\n",
       "      <td>15000</td>\n",
       "      <td>5.6743979999999965</td>\n",
       "      <td>0.17769300000000499</td>\n",
       "      <td>0.0018660000000068067</td>\n",
       "    </tr>\n",
       "    <tr>\n",
       "      <th>4</th>\n",
       "      <td>20000</td>\n",
       "      <td>10.866554000000008</td>\n",
       "      <td>0.2891300000000001</td>\n",
       "      <td>0.0022659999999916636</td>\n",
       "    </tr>\n",
       "    <tr>\n",
       "      <th>5</th>\n",
       "      <td>25000</td>\n",
       "      <td>22.95670300000002</td>\n",
       "      <td>0.43608299999999645</td>\n",
       "      <td>0.0024499999999818556</td>\n",
       "    </tr>\n",
       "  </tbody>\n",
       "</table>\n",
       "</div>"
      ],
      "text/plain": [
       "           0                   1                      2                      3\n",
       "0  ArraySize    grokkingSortTime  Numpy-based Sort Time    Built-In Numpy Sort\n",
       "1       5000  0.6192980000000006   0.035468000000008715  0.0013030000000071595\n",
       "2      10000  2.5716350000000006    0.08588999999997782  0.0030899999999860484\n",
       "3      15000  5.6743979999999965    0.17769300000000499  0.0018660000000068067\n",
       "4      20000  10.866554000000008     0.2891300000000001  0.0022659999999916636\n",
       "5      25000   22.95670300000002    0.43608299999999645  0.0024499999999818556"
      ]
     },
     "execution_count": 67,
     "metadata": {},
     "output_type": "execute_result"
    }
   ],
   "source": [
    "timeTable = pd.DataFrame(np.array([['ArraySize', 'grokkingSortTime', 'Numpy-based Sort Time', 'Built-In Numpy Sort'],\n",
    "                     [5000, time5k, time5k2, time5k3],\n",
    "                     [10000, time10k, time10k2, time10k3],\n",
    "                     [15000, time15k, time15k2, time15k3],\n",
    "                     [20000, time20k, time20k2, time20k3],\n",
    "                     [25000, time25k, time25k2, time25k3]]))\n",
    "\n",
    "timeTable"
   ]
  },
  {
   "cell_type": "code",
   "execution_count": 59,
   "metadata": {},
   "outputs": [
    {
     "data": {
      "image/png": "[encoded data removed]",
      "text/plain": [
       "<Figure size 432x288 with 1 Axes>"
      ]
     },
     "metadata": {},
     "output_type": "display_data"
    }
   ],
   "source": [
    "plt.plot([5000, 10000, 15000, 20000, 25000],\n",
    "        [time5k, time10k, time15k, time20k, time25k],\n",
    "        'r--',\n",
    "        [5000, 10000, 15000, 20000, 25000],\n",
    "        [time5k2, time10k2, time15k2, time20k2, time25k2],\n",
    "        'b--',\n",
    "        [5000, 10000, 15000, 20000, 25000],\n",
    "        [time5k3, time10k3, time15k3, time20k3, time25k3],\n",
    "        'g-')\n",
    "plt.xlabel('Size of Array')\n",
    "plt.ylabel('Time in Milliseconds')\n",
    "plt.title('Execution Times of Various Sorting Algorithms')\n",
    "plt.legend(['Grokking Text', 'Numpy-Friendly', 'Built-In Numpy'])\n",
    "plt.xticks(np.arange(5000, 30000, 5000))\n",
    "plt.show()\n"
   ]
  },
  {
   "cell_type": "code",
   "execution_count": null,
   "metadata": {},
   "outputs": [],
   "source": []
  }
 ],
 "metadata": {
  "kernelspec": {
   "display_name": "Python 3",
   "language": "python",
   "name": "python3"
  },
  "language_info": {
   "codemirror_mode": {
    "name": "ipython",
    "version": 3
   },
   "file_extension": ".py",
   "mimetype": "text/x-python",
   "name": "python",
   "nbconvert_exporter": "python",
   "pygments_lexer": "ipython3",
   "version": "3.6.5"
  }
 },
 "nbformat": 4,
 "nbformat_minor": 2
}
