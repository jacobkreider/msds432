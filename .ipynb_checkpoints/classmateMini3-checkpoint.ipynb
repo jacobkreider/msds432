{
 "cells": [
  {
   "cell_type": "markdown",
   "metadata": {},
   "source": [
    "Import the necessary libraries that will be used in the script. Numpy is a powerful library that has many tools allowing for manipulation of mult-dimensional arrays and matrices. Random is useful for generating random numbers. Matplotlib is a library for plotting. Pandas is a library for data manipulation and modeling. Time will allow for tracking the execution times."
   ]
  },
  {
   "cell_type": "code",
   "execution_count": 9,
   "metadata": {},
   "outputs": [],
   "source": [
    "# Import libraries\n",
    "\n",
    "import numpy as np\n",
    "import pandas as pd\n",
    "import random\n",
    "import matplotlib.pyplot as plt\n",
    "import time\n",
    "from decimal import Decimal"
   ]
  },
  {
   "cell_type": "markdown",
   "metadata": {},
   "source": [
    "The recursion algorithm below will take in an integer and calculate its factorial. Recursion algorithms work by repeatedly calling a function on itself, which is great for calculating factorials. A factorial is calculated using the formula n*(n-1)*(n-2)...*2*1. Thus, 5! will be 5*4*3*2*1, which is 120. Factorial recursion is caulculated by returning x * the function itself(x - 1). For example, the algorithm will first return 5 * function(4), which will begin the stack, then the next stack will consist of 4 * function(3) until x is 1. This will result in 5*4*3*2*1, which is 120. "
   ]
  },
  {
   "cell_type": "code",
   "execution_count": 2,
   "metadata": {},
   "outputs": [],
   "source": [
    "# Begin with the base code for factorial recursion\n",
    "# as described in chapter 3 of Grokking Algorithms (Bhargava 2016).\n",
    "\n",
    "def rec_fact(x):\n",
    "  if x == 1:\n",
    "    return 1\n",
    "  else:\n",
    "    return x * rec_fact(x-1)"
   ]
  },
  {
   "cell_type": "markdown",
   "metadata": {},
   "source": [
    "The factorial algorithm below using a simple for loop will take an integer and calculate its factorial. It will use a temp variable to store the product of the numbers. For example, finding the factorial of 5 will take 1 * 1 and store it in the temp variable. Then it will take 1 * 2 and store it in the temp variable, then 2 * 3, and so on until the loop reached temp (or 24) * 5. "
   ]
  },
  {
   "cell_type": "code",
   "execution_count": 3,
   "metadata": {},
   "outputs": [],
   "source": [
    "# Factorial using simple FOR loop\n",
    "\n",
    "def for_fact(x):\n",
    "    temp = 1\n",
    "    for x in range(1, x + 1):\n",
    "        temp = temp * x\n",
    "    return temp"
   ]
  },
  {
   "cell_type": "markdown",
   "metadata": {},
   "source": [
    "Set a random seed so the results are reproducible. Create a list of 10 random numbers between 100 and 500."
   ]
  },
  {
   "cell_type": "code",
   "execution_count": 4,
   "metadata": {},
   "outputs": [],
   "source": [
    "# Set up an array of 10 random numbers between 100 and 500\n",
    "\n",
    "random.seed(330)\n",
    "\n",
    "array = random.sample(range(100, 501), 10)\n",
    "\n",
    "array.sort()"
   ]
  },
  {
   "cell_type": "markdown",
   "metadata": {},
   "source": [
    "For the 10 random number array, gather the execution time for the simple for loop and recursion algorithm and append it to a list. The time library is used to generate the execution time."
   ]
  },
  {
   "cell_type": "code",
   "execution_count": 5,
   "metadata": {},
   "outputs": [],
   "source": [
    "# Execute the recursion and simple for loop for the random number array,\n",
    "# noting the execution time with each execution.\n",
    "\n",
    "times_for_loop = []\n",
    "\n",
    "for i in range(len(array)):\n",
    "    start = time.clock()\n",
    "    for_fact(array[i])\n",
    "    end = time.clock()\n",
    "    times_for_loop.append((end - start) * 1000)\n",
    "    \n",
    "times_recursion = []\n",
    "\n",
    "for i in range(len(array)):\n",
    "    start = time.clock()\n",
    "    rec_fact(array[i])\n",
    "    end = time.clock()\n",
    "    times_recursion.append((end - start) * 1000)"
   ]
  },
  {
   "cell_type": "markdown",
   "metadata": {},
   "source": [
    "Store the factorials of the 10 random numbers in a list. Convert the factorial into scientific notation so it doesn't run into any runtime errors resulting from the int being too large. These factorials will consist of hundreds of digits, which is too large to store in a data frame within Python. "
   ]
  },
  {
   "cell_type": "code",
   "execution_count": 10,
   "metadata": {},
   "outputs": [],
   "source": [
    "factorial = []\n",
    "\n",
    "for i in range(len(array)):\n",
    "    factorial.append(\"{:.10e}\".format(Decimal(for_fact(array[i]))))"
   ]
  },
  {
   "cell_type": "markdown",
   "metadata": {},
   "source": [
    "Store the difference in time between the recursion algorithm and the simple for loop. "
   ]
  },
  {
   "cell_type": "code",
   "execution_count": 11,
   "metadata": {},
   "outputs": [],
   "source": [
    "times_diff = np.array(times_recursion) - np.array(times_for_loop)"
   ]
  },
  {
   "cell_type": "markdown",
   "metadata": {},
   "source": [
    "Create a dataframe with the indicating the 10 random numbers, the the execution time in milliseconds for the simple for loop, the execution time in milliseconds for the recursion algorithm, and the difference in execution times between the recursive algorithm and the simple for loop. Display the data frame."
   ]
  },
  {
   "cell_type": "code",
   "execution_count": 12,
   "metadata": {},
   "outputs": [
    {
     "data": {
      "text/html": [
       "<div>\n",
       "<style scoped>\n",
       "    .dataframe tbody tr th:only-of-type {\n",
       "        vertical-align: middle;\n",
       "    }\n",
       "\n",
       "    .dataframe tbody tr th {\n",
       "        vertical-align: top;\n",
       "    }\n",
       "\n",
       "    .dataframe thead th {\n",
       "        text-align: right;\n",
       "    }\n",
       "</style>\n",
       "<table border=\"1\" class=\"dataframe\">\n",
       "  <thead>\n",
       "    <tr style=\"text-align: right;\">\n",
       "      <th></th>\n",
       "      <th>Numbers</th>\n",
       "      <th>Recursion Time</th>\n",
       "      <th>For Loop Time</th>\n",
       "      <th>Difference in Time</th>\n",
       "      <th>Factorial</th>\n",
       "    </tr>\n",
       "  </thead>\n",
       "  <tbody>\n",
       "    <tr>\n",
       "      <th>0</th>\n",
       "      <td>108</td>\n",
       "      <td>0.080</td>\n",
       "      <td>0.025</td>\n",
       "      <td>0.055</td>\n",
       "      <td>1.3246418195e+174</td>\n",
       "    </tr>\n",
       "    <tr>\n",
       "      <th>1</th>\n",
       "      <td>125</td>\n",
       "      <td>0.054</td>\n",
       "      <td>0.020</td>\n",
       "      <td>0.034</td>\n",
       "      <td>1.8826771769e+209</td>\n",
       "    </tr>\n",
       "    <tr>\n",
       "      <th>2</th>\n",
       "      <td>136</td>\n",
       "      <td>0.049</td>\n",
       "      <td>0.021</td>\n",
       "      <td>0.028</td>\n",
       "      <td>3.6590428820e+232</td>\n",
       "    </tr>\n",
       "    <tr>\n",
       "      <th>3</th>\n",
       "      <td>270</td>\n",
       "      <td>0.222</td>\n",
       "      <td>0.049</td>\n",
       "      <td>0.173</td>\n",
       "      <td>6.6621141047e+540</td>\n",
       "    </tr>\n",
       "    <tr>\n",
       "      <th>4</th>\n",
       "      <td>272</td>\n",
       "      <td>0.121</td>\n",
       "      <td>0.077</td>\n",
       "      <td>0.044</td>\n",
       "      <td>4.9107775488e+545</td>\n",
       "    </tr>\n",
       "    <tr>\n",
       "      <th>5</th>\n",
       "      <td>305</td>\n",
       "      <td>0.159</td>\n",
       "      <td>0.069</td>\n",
       "      <td>0.090</td>\n",
       "      <td>7.8161436727e+626</td>\n",
       "    </tr>\n",
       "    <tr>\n",
       "      <th>6</th>\n",
       "      <td>362</td>\n",
       "      <td>0.527</td>\n",
       "      <td>0.089</td>\n",
       "      <td>0.438</td>\n",
       "      <td>5.2052821972e+770</td>\n",
       "    </tr>\n",
       "    <tr>\n",
       "      <th>7</th>\n",
       "      <td>387</td>\n",
       "      <td>0.254</td>\n",
       "      <td>0.097</td>\n",
       "      <td>0.157</td>\n",
       "      <td>1.1620314968e+835</td>\n",
       "    </tr>\n",
       "    <tr>\n",
       "      <th>8</th>\n",
       "      <td>415</td>\n",
       "      <td>0.229</td>\n",
       "      <td>0.095</td>\n",
       "      <td>0.134</td>\n",
       "      <td>9.2459456436e+907</td>\n",
       "    </tr>\n",
       "    <tr>\n",
       "      <th>9</th>\n",
       "      <td>416</td>\n",
       "      <td>0.304</td>\n",
       "      <td>0.086</td>\n",
       "      <td>0.218</td>\n",
       "      <td>3.8463133877e+910</td>\n",
       "    </tr>\n",
       "  </tbody>\n",
       "</table>\n",
       "</div>"
      ],
      "text/plain": [
       "   Numbers  Recursion Time  For Loop Time  Difference in Time  \\\n",
       "0      108           0.080          0.025               0.055   \n",
       "1      125           0.054          0.020               0.034   \n",
       "2      136           0.049          0.021               0.028   \n",
       "3      270           0.222          0.049               0.173   \n",
       "4      272           0.121          0.077               0.044   \n",
       "5      305           0.159          0.069               0.090   \n",
       "6      362           0.527          0.089               0.438   \n",
       "7      387           0.254          0.097               0.157   \n",
       "8      415           0.229          0.095               0.134   \n",
       "9      416           0.304          0.086               0.218   \n",
       "\n",
       "           Factorial  \n",
       "0  1.3246418195e+174  \n",
       "1  1.8826771769e+209  \n",
       "2  3.6590428820e+232  \n",
       "3  6.6621141047e+540  \n",
       "4  4.9107775488e+545  \n",
       "5  7.8161436727e+626  \n",
       "6  5.2052821972e+770  \n",
       "7  1.1620314968e+835  \n",
       "8  9.2459456436e+907  \n",
       "9  3.8463133877e+910  "
      ]
     },
     "execution_count": 12,
     "metadata": {},
     "output_type": "execute_result"
    }
   ],
   "source": [
    "df = pd.DataFrame(list(zip(array, times_recursion, times_for_loop, times_diff, factorial)),\n",
    "              columns=['Numbers', 'Recursion Time', 'For Loop Time', 'Difference in Time', 'Factorial'])\n",
    "\n",
    "df"
   ]
  },
  {
   "cell_type": "markdown",
   "metadata": {},
   "source": [
    "Use matplotlib to plot the 10 random numbers against the execution time in milliseconds for the recursion algorithm and the simple for loop. The 10 random numbers should be on the horizontal axis, with the time in milliseconds it took to execute the recursion algorithm and the simple for loop. It appears from the plot below that the simple for loop performs faster than the recursive algorithm. It is apparent that the gap between the recursion algorithm and simple for loop widens as the number of the factorial being calculated becomes larger. For example, it took the simple for loop only 0.11 milliseconds to calculate the factorial of the largest random number but 0.244 milliseconds for the recursion algorithm. This demonstrates that while recursion may result in cleaner and more elegent code, as well as shorter code, it does not always perfomr better. A simple for loop, which can sometimes appear to be \"dirty\", especially relative to recursive code, can perform better than recursion. "
   ]
  },
  {
   "cell_type": "code",
   "execution_count": 13,
   "metadata": {
    "scrolled": true
   },
   "outputs": [
    {
     "data": {
      "image/png": "[encoded data removed]",
      "text/plain": [
       "<Figure size 432x288 with 1 Axes>"
      ]
     },
     "metadata": {},
     "output_type": "display_data"
    }
   ],
   "source": [
    "ax = plt.gca()\n",
    "\n",
    "df.plot(x='Numbers',y='For Loop Time',ax=ax)\n",
    "df.plot(x='Numbers',y='Recursion Time', ax=ax)\n",
    "plt.xlabel('Numbers')\n",
    "plt.ylabel('Execution Time (Milliseconds)')\n",
    "\n",
    "plt.show()"
   ]
  },
  {
   "cell_type": "code",
   "execution_count": null,
   "metadata": {},
   "outputs": [],
   "source": []
  }
 ],
 "metadata": {
  "kernelspec": {
   "display_name": "Python 3",
   "language": "python",
   "name": "python3"
  },
  "language_info": {
   "codemirror_mode": {
    "name": "ipython",
    "version": 3
   },
   "file_extension": ".py",
   "mimetype": "text/x-python",
   "name": "python",
   "nbconvert_exporter": "python",
   "pygments_lexer": "ipython3",
   "version": "3.6.5"
  }
 },
 "nbformat": 4,
 "nbformat_minor": 2
}
