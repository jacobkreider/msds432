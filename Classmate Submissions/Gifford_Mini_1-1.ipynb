{
 "cells": [
  {
   "cell_type": "code",
   "execution_count": 78,
   "metadata": {
    "collapsed": true
   },
   "outputs": [],
   "source": [
    "# Begin with the base code for sequential/linear and binary search\n",
    "# as described in chapter 1 of Grokking Algorithms (Bhargava 2016).\n",
    "\n",
    "import numpy as np\n",
    "import matplotlib.pyplot as plt\n",
    "import time\n",
    "\n",
    "def simple_search(list, item):\n",
    "    for i in list:\n",
    "        if i == item:\n",
    "            return i\n",
    "    # Item doesn't exist\n",
    "    return None\n",
    "\n",
    "def binary_search(list, item):\n",
    "  # low and high keep track of which part of the list you'll search in.\n",
    "  low = 0\n",
    "  high = len(list) - 1\n",
    "\n",
    "  # While you haven't narrowed it down to one element ...\n",
    "  while low <= high:\n",
    "    # ... check the middle element\n",
    "    mid = (low + high) // 2\n",
    "    guess = list[mid]\n",
    "    # Found the item.\n",
    "    if guess == item:\n",
    "      return mid\n",
    "    # The guess was too high.\n",
    "    if guess > item:\n",
    "      high = mid - 1\n",
    "    # The guess was too low.\n",
    "    else:\n",
    "      low = mid + 1\n",
    "\n",
    "  # Item doesn't exist\n",
    "  return None"
   ]
  },
  {
   "cell_type": "code",
   "execution_count": 79,
   "metadata": {
    "collapsed": true
   },
   "outputs": [],
   "source": [
    "# Set up random number arrays of 512, 1024, 2048, 4096, and 8192\n",
    "# using a uniform random number generator.\n",
    "\n",
    "np.random.seed(seed=123)\n",
    "\n",
    "# z is for warmup\n",
    "z = np.random.randint(9999, size=256)\n",
    "\n",
    "a = np.random.randint(9999, size=512)\n",
    "b = np.random.randint(9999, size=1024)\n",
    "c = np.random.randint(9999, size=2048)\n",
    "d = np.random.randint(9999, size=4096)\n",
    "e = np.random.randint(9999, size=8192)"
   ]
  },
  {
   "cell_type": "code",
   "execution_count": 80,
   "metadata": {
    "collapsed": true
   },
   "outputs": [],
   "source": [
    "# Sort each of the random number arrays from smallest to largest.\n",
    "\n",
    "# z is for warmup\n",
    "z = np.sort(z)\n",
    "\n",
    "start = time.clock()\n",
    "a = np.sort(a)\n",
    "stop = time.clock()\n",
    "time1 = stop - start\n",
    "\n",
    "start = time.clock()\n",
    "b = np.sort(b)\n",
    "stop = time.clock()\n",
    "time2 = stop - start\n",
    "\n",
    "start = time.clock()\n",
    "c = np.sort(c)\n",
    "stop = time.clock()\n",
    "time3 = stop - start\n",
    "\n",
    "start = time.clock()\n",
    "d = np.sort(d)\n",
    "stop = time.clock()\n",
    "time4 = stop - start\n",
    "\n",
    "start = time.clock()\n",
    "e = np.sort(e)\n",
    "stop = time.clock()\n",
    "time5 = stop - start"
   ]
  },
  {
   "cell_type": "code",
   "execution_count": 81,
   "metadata": {
    "collapsed": true
   },
   "outputs": [],
   "source": [
    "# Execute the base algorithm for each of the random number arrays,\n",
    "# noting the execution time with each execution.\n",
    "# With each execution use the maximum value of the random number\n",
    "# array as the number for which you are searching.\n",
    "\n",
    "start = time.clock()\n",
    "simple_search(a, a[-1])\n",
    "stop = time.clock()\n",
    "time6 = stop - start\n",
    "\n",
    "start = time.clock()\n",
    "simple_search(b, b[-1])\n",
    "stop = time.clock()\n",
    "time7 = stop - start\n",
    "\n",
    "start = time.clock()\n",
    "simple_search(c, c[-1])\n",
    "stop = time.clock()\n",
    "time8 = stop - start\n",
    "\n",
    "start = time.clock()\n",
    "simple_search(d, d[-1])\n",
    "stop = time.clock()\n",
    "time9 = stop - start\n",
    "\n",
    "start = time.clock()\n",
    "simple_search(e, e[-1])\n",
    "stop = time.clock()\n",
    "time10 = stop - start\n",
    "\n",
    "start = time.clock()\n",
    "binary_search(a, a[-1])\n",
    "stop = time.clock()\n",
    "time11 = stop - start\n",
    "\n",
    "start = time.clock()\n",
    "binary_search(b, b[-1])\n",
    "stop = time.clock()\n",
    "time12 = stop - start\n",
    "\n",
    "start = time.clock()\n",
    "binary_search(c, c[-1])\n",
    "stop = time.clock()\n",
    "time13 = stop - start\n",
    "\n",
    "start = time.clock()\n",
    "binary_search(d, d[-1])\n",
    "stop = time.clock()\n",
    "time14 = stop - start\n",
    "\n",
    "start = time.clock()\n",
    "binary_search(e, e[-1])\n",
    "stop = time.clock()\n",
    "time15 = stop - start\n",
    "\n",
    "time16 = time1 + time6\n",
    "time17 = time2 + time7\n",
    "time18 = time3 + time8\n",
    "time19 = time4 + time9\n",
    "time20 = time5 + time10\n",
    "time21 = time1 + time11\n",
    "time22 = time2 + time12\n",
    "time23 = time3 + time13\n",
    "time24 = time4 + time14\n",
    "time25 = time5 + time15"
   ]
  },
  {
   "cell_type": "code",
   "execution_count": 82,
   "metadata": {},
   "outputs": [
    {
     "name": "stdout",
     "output_type": "stream",
     "text": [
      "[['Array Length' 'Sort Time' 'Simple Search' 'Binary Search'\n",
      "  'Simple+Sort' 'Binary+Sort']\n",
      " ['512' '9.644844249123707e-05' '6.520034366985783e-05'\n",
      "  '2.854393096640706e-05' '0.0001616487861610949'\n",
      "  '0.00012499237345764413']\n",
      " ['1024' '0.00021783527336083353' '7.481514330720529e-05'\n",
      "  '2.7041620342060924e-05' '0.0002926504166680388'\n",
      "  '0.00024487689370289445']\n",
      " ['2048' '0.00020311261323513463' '0.0001201849736389704'\n",
      "  '2.6741152396425605e-05' '0.00032329758687410504'\n",
      "  '0.00022985376563156024']\n",
      " ['4096' '0.0003743762063095346' '0.00021513110550586134'\n",
      "  '2.7342081011738628e-05' '0.000589507311815396'\n",
      "  '0.00040171828732127324']\n",
      " ['8192' '0.0007241144849103875' '0.0004491913496167399'\n",
      "  '2.7642548957373947e-05' '0.0011733058345271274'\n",
      "  '0.0007517570338677615']]\n"
     ]
    }
   ],
   "source": [
    "# Use Python (perhaps with the Pandas package) to prepare a six-column array\n",
    "# showing the length of the random number array in column (1) and execution\n",
    "# time in milliseconds in the remaining columns as follows: (2) sort time,\n",
    "# (3) linear search time for sorted array, (4) binary search time for sorted\n",
    "# array, (5) sort plus linear search plus sort times, and (6) binary search\n",
    "# plus sort times.\n",
    "\n",
    "test = np.array([[\"Array Length\",\"Sort Time\",\"Simple Search\",\n",
    "                  \"Binary Search\",\"Simple+Sort\",\"Binary+Sort\"],\n",
    "                 ['512', time1, time6, time11, time16, time21],\n",
    "                 ['1024', time2, time7, time12, time17, time22],\n",
    "                 ['2048', time3, time8, time13, time18, time23],\n",
    "                 ['4096', time4, time9, time14, time19, time24],\n",
    "                 ['8192', time5, time10, time15, time20, time25]])\n",
    "print(test)"
   ]
  },
  {
   "cell_type": "code",
   "execution_count": 83,
   "metadata": {},
   "outputs": [
    {
     "data": {
      "image/png": "[encoded data removed]",
      "text/plain": [
       "<matplotlib.figure.Figure at 0x8c56ac8>"
      ]
     },
     "metadata": {},
     "output_type": "display_data"
    }
   ],
   "source": [
    "# Use Python matplotlib or Seaborn to generate a plot with the size of the\n",
    "# random number array on the horizontal axis and with execution time in\n",
    "# milliseconds on the vertical axis. The plot should show execution time\n",
    "# against array size for sequential and binary search algorithms alone.\n",
    "\n",
    "plt.plot([512, 1024, 2048, 4096, 8192],\n",
    "         [time6, time7, time8, time9, time10],\n",
    "         'r--',\n",
    "         [512, 1024, 2048, 4096, 8192],\n",
    "         [time11, time12, time13, time14, time15],\n",
    "         'b--')\n",
    "plt.axis([0, 10000, 0, 0.00050])\n",
    "plt.xlabel('Array Size')\n",
    "plt.ylabel('Execution Time')\n",
    "plt.title('Array Size vs Execution Time')\n",
    "plt.legend(['Simple', 'Binary'], loc=2)\n",
    "plt.show()"
   ]
  },
  {
   "cell_type": "code",
   "execution_count": 84,
   "metadata": {},
   "outputs": [
    {
     "data": {
      "image/png": "[encoded data removed]",
      "text/plain": [
       "<matplotlib.figure.Figure at 0x8c80080>"
      ]
     },
     "metadata": {},
     "output_type": "display_data"
    }
   ],
   "source": [
    "# Use Python matplotlib or Seaborn to generate a measure of the size of the\n",
    "# data set on the horizontal axis and with execution time in milliseconds\n",
    "# on the vertical axis. The plot should show execution time against problem\n",
    "# size for each form of the algorithm being tested.\n",
    "\n",
    "plt.plot([512, 1024, 2048, 4096, 8192],\n",
    "         [time1, time2, time3, time4, time5],\n",
    "         'g--',\n",
    "         [512, 1024, 2048, 4096, 8192],\n",
    "         [time6, time7, time8, time9, time10],\n",
    "         'r--',\n",
    "         [512, 1024, 2048, 4096, 8192],\n",
    "         [time11, time12, time13, time14, time15],\n",
    "         'b--',\n",
    "         [512, 1024, 2048, 4096, 8192],\n",
    "         [time16, time17, time18, time19, time20],\n",
    "         'r-',\n",
    "         [512, 1024, 2048, 4096, 8192],\n",
    "         [time21, time22, time23, time24, time25],\n",
    "         'b-')\n",
    "plt.axis([0, 10000, 0, 0.0012])\n",
    "plt.xlabel('Problem Size')\n",
    "plt.ylabel('Execution Time')\n",
    "plt.title('Problem Size vs Execution Time')\n",
    "plt.legend(['Sort', 'Simple', 'Binary', \"Simple+Sort\", \"Binary+Sort\"], loc=2)\n",
    "plt.show()"
   ]
  },
  {
   "cell_type": "code",
   "execution_count": 85,
   "metadata": {
    "collapsed": true
   },
   "outputs": [],
   "source": [
    "# Prepare an executive summary of your results, referring to the table and figures\n",
    "# you have generated. Explain how your results relate to big O notation. Describe\n",
    "# your results in language that management can understand. This summary should be\n",
    "# included as comments or text paragraphs in the Jupyter notebook. Explain how the\n",
    "# algorithm works and why it is a useful to data engineers."
   ]
  },
  {
   "cell_type": "markdown",
   "metadata": {},
   "source": [
    "Executive Summary\n",
    "\n",
    "Five random arrays of varying size (512, 1024, 2048, 4096, 8192) were generated for the\n",
    "data set for this problem. These arrays were then sorted and the sort times recorded.\n",
    "Two types of search (Simple, and Binary) were then used to search for the largest number\n",
    "in the array, with the execution times recorded. A table and plots of the results have\n",
    "been provided.\n",
    "\n",
    "The results show that the run times for Sort and Simple search are in linear time (O(n)),\n",
    "and that run time for Binary search is in log time (O(log n)). This confirms our\n",
    "understanding that Simple search has to check each value in the data set and that its\n",
    "execution time is proportional to the size of the data set. As well, we have confirmed\n",
    "that execution time for Binary search will not increase noticably unless there is an\n",
    "exponential increase in the size of the data set, because of its ability to continuously\n",
    "split the entire data set into smaller halves.\n",
    "\n",
    "Based on the results of this testing, it is clear that a data engineer who is interested\n",
    "in applying the most efficient search method, would want to utilize Binary search."
   ]
  }
 ],
 "metadata": {
  "kernelspec": {
   "display_name": "Python 3",
   "language": "python",
   "name": "python3"
  },
  "language_info": {
   "codemirror_mode": {
    "name": "ipython",
    "version": 3
   },
   "file_extension": ".py",
   "mimetype": "text/x-python",
   "name": "python",
   "nbconvert_exporter": "python",
   "pygments_lexer": "ipython3",
   "version": "3.6.5"
  }
 },
 "nbformat": 4,
 "nbformat_minor": 2
}
