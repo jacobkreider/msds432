{
 "cells": [
  {
   "cell_type": "markdown",
   "metadata": {},
   "source": [
    "# Sorting Algorithms \n",
    "## MSDS-432 - Kiley - Week 4 Assignment\n",
    "### Assignment Overview\n",
    "The mini-programming assignment requires us to implement and test the performance of various sorting algorithms manually applied in Python.\n",
    "The assignement requires us to create a fictional data about persons and to sort it using different algorithms. \n",
    "\n",
    "The data is required to be sorted by first name, then lastname, and then by state.\n",
    "\n",
    "The output and the time required to run the algorithm are to be captured, reported, and analyzed.\n",
    "\n",
    "The algorithm's performance will be measured using Big O notation. <br>\n",
    "**Big O Notation** is a way to communicate the number of operations required to perform an algorithm in the worst-case scenario.  The number of operations is represented by n.\n",
    "\n",
    "Found a wonderful reference site called http://bigocheatsheet.com/.\n",
    "\n",
    "The sorts that have been selected for testing are:\n",
    "\n",
    "| Sort Method    |Time Worst Case|\n",
    "|----------------|---------------|\n",
    "| Quick Sort     |O(n^2)         | \n",
    "| Merge Sort     |O(n log(n))    |\n",
    "| Bubble Sort    |O(n^2)         |\n",
    "| Insertion Sort |O(n^2)         | \n",
    "| Shell Sort     |O(n(log(n))^2) | \n",
    "\n",
    "\n",
    "This assignment is git controlled.  The repo was prepared using git bash.\n",
    "\n",
    "# Setting up working environment, define and test key functions\n",
    "The packages selected in \"In[1]\" are all the packages required for the subsequent operations. <br>\n",
    "They are named based on standard python naming conventions."
   ]
  },
  {
   "cell_type": "code",
   "execution_count": 1,
   "metadata": {},
   "outputs": [],
   "source": [
    "# Set up working environment\n",
    "import numpy as np\n",
    "import time\n",
    "import pandas as pd\n",
    "import matplotlib.pyplot as plt\n",
    "import random\n",
    "import string\n",
    "\n",
    "from IPython.core.interactiveshell import InteractiveShell\n",
    "InteractiveShell.ast_node_interactivity = \"all\""
   ]
  },
  {
   "cell_type": "markdown",
   "metadata": {},
   "source": [
    "## Quick Sort\n",
    "\n",
    "**quicksort** function leverages code from *Grokking Algorithms*; the code was sourced from github.\n",
    "\n",
    "https://github.com/egonSchiele/grokking_algorithms/blob/master/04_quicksort/python/05_quicksort.py\n",
    "\n",
    "Divide and conquer algorithm.  This implementation picks the last element as a pivot and paritions the array around the pivot. \n",
    "\n",
    "https://www.geeksforgeeks.org/quick-sort/\n",
    "\n",
    "We will define it as a function so that it may be applied to multiple trials consistently and quickly."
   ]
  },
  {
   "cell_type": "code",
   "execution_count": 2,
   "metadata": {},
   "outputs": [
    {
     "name": "stdout",
     "output_type": "stream",
     "text": [
      "Sorted values are: [2, 3, 5, 10]\n",
      "Confirmed, this algorithm works correctly\n"
     ]
    }
   ],
   "source": [
    "def quickSort(array):\n",
    "  if len(array) < 2:\n",
    "    # base case, arrays with 0 or 1 element are already \"sorted\"\n",
    "    return array\n",
    "  else:\n",
    "    # recursive case\n",
    "    pivot = array[0]\n",
    "    # sub-array of all the elements less than the pivot\n",
    "    less = [i for i in array[1:] if i <= pivot]\n",
    "    # sub-array of all the elements greater than the pivot\n",
    "    greater = [i for i in array[1:] if i > pivot]\n",
    "    return quickSort(less) + [pivot] + quickSort(greater)\n",
    "\n",
    "# Test Effectiveness of Sort\n",
    "print('Sorted values are:',quickSort([10, 5, 2, 3]))\n",
    "print('Confirmed, this algorithm works correctly')"
   ]
  },
  {
   "cell_type": "markdown",
   "metadata": {},
   "source": [
    "## Merge Sort\n",
    "**mergeSort** function leverages code from *Geeks for Geeks*; the code was adapted from the link below.\n",
    "\n",
    "https://www.geeksforgeeks.org/merge-sort/\n",
    "\n",
    "Divide and conqueor. Recursively splits arrays into halves and then re merges them in order.\n",
    "\n",
    "We will define it as a function so that it may be applied to multiple trials consistently and quickly."
   ]
  },
  {
   "cell_type": "code",
   "execution_count": 3,
   "metadata": {},
   "outputs": [
    {
     "name": "stdout",
     "output_type": "stream",
     "text": [
      "Sorted values are: [2, 3, 5, 10]\n",
      "Confirmed, this algorithm works correctly\n"
     ]
    }
   ],
   "source": [
    "# Python program for implementation of MergeSort \n",
    "def mergeSort(arr): \n",
    "    if len(arr) >1: \n",
    "        mid = len(arr)//2 #Finding the mid of the array \n",
    "        L = arr[:mid] # Dividing the array elements  \n",
    "        R = arr[mid:] # into 2 halves \n",
    "  \n",
    "        mergeSort(L) # Sorting the first half \n",
    "        mergeSort(R) # Sorting the second half \n",
    "  \n",
    "        i = j = k = 0\n",
    "          \n",
    "        # Copy data to temp arrays L[] and R[] \n",
    "        while i < len(L) and j < len(R): \n",
    "            if L[i] < R[j]: \n",
    "                arr[k] = L[i] \n",
    "                i+=1\n",
    "            else: \n",
    "                arr[k] = R[j] \n",
    "                j+=1\n",
    "            k+=1\n",
    "          \n",
    "        # Checking if any element was left \n",
    "        while i < len(L): \n",
    "            arr[k] = L[i] \n",
    "            i+=1\n",
    "            k+=1\n",
    "          \n",
    "        while j < len(R): \n",
    "            arr[k] = R[j] \n",
    "            j+=1\n",
    "            k+=1\n",
    "        return arr\n",
    "\n",
    "# Test Effectiveness of Sort\n",
    "print('Sorted values are:', mergeSort([10, 5, 2, 3]))\n",
    "print('Confirmed, this algorithm works correctly')"
   ]
  },
  {
   "cell_type": "markdown",
   "metadata": {},
   "source": [
    "## Bubble sort\n",
    "\n",
    "**bubble sort** function leverages code from *Geeks for Geeks*; the code was adapted from the link below.\n",
    "\n",
    "https://www.geeksforgeeks.org/python-program-for-bubble-sort/\n",
    "\n",
    "Simply swaps adjacent items in a list if they're no in the right order.\n",
    "\n",
    "We will define it as a function so that it may be applied to multiple trials consistently and quickly.    "
   ]
  },
  {
   "cell_type": "code",
   "execution_count": 4,
   "metadata": {},
   "outputs": [
    {
     "name": "stdout",
     "output_type": "stream",
     "text": [
      "[2, 3, 5, 10]\n",
      "Confirmed, this algorithm works correctly\n"
     ]
    }
   ],
   "source": [
    "def bubbleSort(arr):\n",
    "    n = len(arr)\n",
    " \n",
    "    # Traverse through all array elements\n",
    "    for i in range(n):\n",
    " \n",
    "        # Last i elements are already in place\n",
    "        for j in range(0, n-i-1):\n",
    " \n",
    "            # traverse the array from 0 to n-i-1\n",
    "            # Swap if the element found is greater\n",
    "            # than the next element\n",
    "            if arr[j] > arr[j+1] :\n",
    "                arr[j], arr[j+1] = arr[j+1], arr[j]\n",
    "    return arr               \n",
    "\n",
    "# Test Effectiveness of Sort\n",
    "print(bubbleSort([10, 5, 2, 3]))\n",
    "print('Confirmed, this algorithm works correctly')"
   ]
  },
  {
   "cell_type": "markdown",
   "metadata": {},
   "source": [
    "## Insertion sort\n",
    "\n",
    "**insertionSort** function leverages code from *Geeks for Geeks*; the code was adapted from the link below.\n",
    "\n",
    "https://www.geeksforgeeks.org/insertion-sort/\n",
    "\n",
    "Moves through the array starting at the front, moves the object being evaluated to its ordered position from left to right.\n",
    "\n",
    "We will define it as a function so that it may be applied to multiple trials consistently and quickly.    "
   ]
  },
  {
   "cell_type": "code",
   "execution_count": 5,
   "metadata": {},
   "outputs": [
    {
     "name": "stdout",
     "output_type": "stream",
     "text": [
      "Sorted values are: [2, 3, 5, 10]\n",
      "Confirmed, this algorithm works correctly\n"
     ]
    }
   ],
   "source": [
    "# Python program for implementation of Insertion Sort \n",
    "  \n",
    "# Function to do insertion sort \n",
    "def insertionSort(arr): \n",
    "  \n",
    "    # Traverse through 1 to len(arr) \n",
    "    for i in range(1, len(arr)): \n",
    "  \n",
    "        key = arr[i] \n",
    "  \n",
    "        # Move elements of arr[0..i-1], that are \n",
    "        # greater than key, to one position ahead \n",
    "        # of their current position \n",
    "        j = i-1\n",
    "        while j >=0 and key < arr[j] : \n",
    "                arr[j+1] = arr[j] \n",
    "                j -= 1\n",
    "        arr[j+1] = key \n",
    "    return arr               \n",
    "\n",
    "# Test Effectiveness of Sort\n",
    "print('Sorted values are:', insertionSort([10, 5, 2, 3]))\n",
    "print('Confirmed, this algorithm works correctly')"
   ]
  },
  {
   "cell_type": "markdown",
   "metadata": {},
   "source": [
    "## Shell Sort\n",
    "\n",
    "**shellSort** function leverages code from *Geeks for Geeks*; the code was adapted from the link below.\n",
    "\n",
    "https://www.geeksforgeeks.org/shellsort/\n",
    "https://www.tutorialspoint.com/data_structures_algorithms/shell_sort_algorithm.htm\n",
    "\n",
    "Variation of insertion, allows dor elements to be moved over larger distances.\n",
    "\n",
    "We will define it as a function so that it may be applied to multiple trials consistently and quickly.    "
   ]
  },
  {
   "cell_type": "code",
   "execution_count": 6,
   "metadata": {},
   "outputs": [
    {
     "name": "stdout",
     "output_type": "stream",
     "text": [
      "Sorted values are: [2, 3, 5, 10]\n",
      "Confirmed, this algorithm works correctly\n"
     ]
    }
   ],
   "source": [
    "# Python3 program for implementation of Shell Sort \n",
    "  \n",
    "def shellSort(arr): \n",
    "  \n",
    "    # Start with a big gap, then reduce the gap \n",
    "    n = len(arr) \n",
    "    gap = n//2\n",
    "  \n",
    "    # Do a gapped insertion sort for this gap size. \n",
    "    # The first gap elements a[0..gap-1] are already in gapped  \n",
    "    # order keep adding one more element until the entire array \n",
    "    # is gap sorted \n",
    "    while gap > 0: \n",
    "  \n",
    "        for i in range(gap,n): \n",
    "  \n",
    "            # add a[i] to the elements that have been gap sorted \n",
    "            # save a[i] in temp and make a hole at position i \n",
    "            temp = arr[i] \n",
    "  \n",
    "            # shift earlier gap-sorted elements up until the correct \n",
    "            # location for a[i] is found \n",
    "            j = i \n",
    "            while  j >= gap and arr[j-gap] >temp: \n",
    "                arr[j] = arr[j-gap] \n",
    "                j -= gap \n",
    "  \n",
    "            # put temp (the original a[i]) in its correct location \n",
    "            arr[j] = temp \n",
    "        gap //= 2\n",
    "    return arr               \n",
    "\n",
    "# Test Effectiveness of Sort\n",
    "print('Sorted values are:', insertionSort([10, 5, 2, 3]))\n",
    "print('Confirmed, this algorithm works correctly')"
   ]
  },
  {
   "cell_type": "markdown",
   "metadata": {},
   "source": [
    "**Results of the test: The algorithms works as expected.** <br>"
   ]
  },
  {
   "cell_type": "markdown",
   "metadata": {},
   "source": [
    "The assignment has asked that the algorithms be tested on a dataframe of person data.  The person data is to be generated with random characters.  First and last names are to be 10 characters long with the name generated with random characters. \n",
    "\n",
    "The last item to be generated is the state that the person lives in.\n",
    "There should be one person genrated for each of the 50 states in the united states.\n",
    "\n",
    "To ensure that the same tests are performed on each data set, a function will be generated to capture the requested tests. \n",
    "\n",
    "The requested output are:\n",
    "* The sorted results\n",
    "* Time (in milliseconds) to run each of the sorting algorithms.\n",
    "\n",
    "These output will be put into a pandas dataframe called \"df_master\". "
   ]
  },
  {
   "cell_type": "markdown",
   "metadata": {},
   "source": [
    "# Generate And Test Random Data \n",
    "The random seed generator provided in the project requirements returned the value 922.<br>\n",
    "Leveraging a seed as such creates reproducable work.<br>\n",
    "That seed has been set below.\n",
    "\n",
    "A list of states has been pulled from a GitHub Gist, and documented below.\n",
    "Using a random string generator, fifty fictional first and last names are created."
   ]
  },
  {
   "cell_type": "code",
   "execution_count": 7,
   "metadata": {},
   "outputs": [
    {
     "name": "stdout",
     "output_type": "stream",
     "text": [
      "First three firstnames are: ['bqpggxcwhj', 'kdsejkhxkn', 'enhxuewxyi']\n",
      "First three lastnames are: ['nuwkofgskl', 'zzzjzhedkh', 'tphlhbrhee']\n",
      "First three states are: ['AL', 'AK', 'AZ']\n",
      "There are a total of 50 states in the array\n",
      "Confirmed, eveything appears as expected\n"
     ]
    }
   ],
   "source": [
    "# Set Random Seeds\n",
    "SEED = np.random.seed(922)\n",
    "random.seed(922)\n",
    "\n",
    "# Thankfully someone already created this array\n",
    "# https://gist.github.com/JeffPaine/3083347\n",
    "# It included DC which I've removed    \n",
    "\n",
    "states = [\"AL\", \"AK\", \"AZ\", \"AR\", \"CA\", \"CO\", \"CT\", \"DE\", \"FL\", \"GA\", \n",
    "          \"HI\", \"ID\", \"IL\", \"IN\", \"IA\", \"KS\", \"KY\", \"LA\", \"ME\", \"MD\", \n",
    "          \"MA\", \"MI\", \"MN\", \"MS\", \"MO\", \"MT\", \"NE\", \"NV\", \"NH\", \"NJ\", \n",
    "          \"NM\", \"NY\", \"NC\", \"ND\", \"OH\", \"OK\", \"OR\", \"PA\", \"RI\", \"SC\", \n",
    "          \"SD\", \"TN\", \"TX\", \"UT\", \"VT\", \"VA\", \"WA\", \"WV\", \"WI\", \"WY\"]\n",
    "\n",
    "# Generate random names\n",
    "def gen_name(array_len):\n",
    "    temp1=[]\n",
    "    i=0\n",
    "    while i < array_len:\n",
    "        temp2 = ''.join(random.choice(string.ascii_lowercase) for n in range(10))\n",
    "        temp1.append(temp2)\n",
    "        i+=1\n",
    "    return temp1\n",
    "\n",
    "# Generate first and last names\n",
    "a_firstname = gen_name(50)\n",
    "a_lastname = gen_name(50)\n",
    "\n",
    "# Print a sample from each set to ensure data is consistant with expectations\n",
    "print('First three firstnames are:', a_firstname[:3])\n",
    "print('First three lastnames are:', a_lastname[:3])\n",
    "print('First three states are:', states[:3])\n",
    "print('There are a total of', len(states), 'states in the array')\n",
    "print('Confirmed, eveything appears as expected')"
   ]
  },
  {
   "cell_type": "markdown",
   "metadata": {},
   "source": [
    "## Create DataFrame\n",
    "Create a dataframe of one person per state.\n",
    "Because the data is generated randomly, the names will be assigned to states based on shared index location.\n",
    "We will view the top five records to ensure that the data looks as expected."
   ]
  },
  {
   "cell_type": "code",
   "execution_count": 8,
   "metadata": {},
   "outputs": [
    {
     "data": {
      "text/html": [
       "<div>\n",
       "<style scoped>\n",
       "    .dataframe tbody tr th:only-of-type {\n",
       "        vertical-align: middle;\n",
       "    }\n",
       "\n",
       "    .dataframe tbody tr th {\n",
       "        vertical-align: top;\n",
       "    }\n",
       "\n",
       "    .dataframe thead th {\n",
       "        text-align: right;\n",
       "    }\n",
       "</style>\n",
       "<table border=\"1\" class=\"dataframe\">\n",
       "  <thead>\n",
       "    <tr style=\"text-align: right;\">\n",
       "      <th></th>\n",
       "      <th>state</th>\n",
       "      <th>first_name</th>\n",
       "      <th>last_name</th>\n",
       "    </tr>\n",
       "  </thead>\n",
       "  <tbody>\n",
       "    <tr>\n",
       "      <th>0</th>\n",
       "      <td>AL</td>\n",
       "      <td>bqpggxcwhj</td>\n",
       "      <td>nuwkofgskl</td>\n",
       "    </tr>\n",
       "    <tr>\n",
       "      <th>1</th>\n",
       "      <td>AK</td>\n",
       "      <td>kdsejkhxkn</td>\n",
       "      <td>zzzjzhedkh</td>\n",
       "    </tr>\n",
       "    <tr>\n",
       "      <th>2</th>\n",
       "      <td>AZ</td>\n",
       "      <td>enhxuewxyi</td>\n",
       "      <td>tphlhbrhee</td>\n",
       "    </tr>\n",
       "    <tr>\n",
       "      <th>3</th>\n",
       "      <td>AR</td>\n",
       "      <td>ryegngkulz</td>\n",
       "      <td>tqaoxvvfza</td>\n",
       "    </tr>\n",
       "    <tr>\n",
       "      <th>4</th>\n",
       "      <td>CA</td>\n",
       "      <td>tbvnsjeolt</td>\n",
       "      <td>viimlgylsn</td>\n",
       "    </tr>\n",
       "  </tbody>\n",
       "</table>\n",
       "</div>"
      ],
      "text/plain": [
       "  state  first_name   last_name\n",
       "0    AL  bqpggxcwhj  nuwkofgskl\n",
       "1    AK  kdsejkhxkn  zzzjzhedkh\n",
       "2    AZ  enhxuewxyi  tphlhbrhee\n",
       "3    AR  ryegngkulz  tqaoxvvfza\n",
       "4    CA  tbvnsjeolt  viimlgylsn"
      ]
     },
     "execution_count": 8,
     "metadata": {},
     "output_type": "execute_result"
    }
   ],
   "source": [
    "# Store data into pandas dataframe\n",
    "p_df = pd.DataFrame({'state': states,\n",
    "                     'first_name': a_firstname,\n",
    "                     'last_name': a_lastname})\n",
    "\n",
    "# Print first five records\n",
    "p_df.head()"
   ]
  },
  {
   "cell_type": "markdown",
   "metadata": {},
   "source": [
    "## Create function to run through all five sort algorithms\n",
    "Here we define a function to perform the test for all versions of the selected sort algorithms.\n",
    "We will also define which column to perform the sort on.\n",
    "\n",
    "This ensures that we get consistent output and can quickly iterate through the trials."
   ]
  },
  {
   "cell_type": "code",
   "execution_count": 9,
   "metadata": {},
   "outputs": [],
   "source": [
    "# List of sort functions\n",
    "sorts_array = [quickSort, mergeSort, bubbleSort, insertionSort, shellSort]\n",
    "\n",
    "# List of columns to sort\n",
    "series = ['state', 'first_name', 'last_name']\n",
    "\n",
    "# Define function to sort & store the data associated with the trials\n",
    "def run_trial(sel_array):\n",
    "    # Create an empty list to store results\n",
    "    fun_results=list([])\n",
    "    fun_names=list([])\n",
    "    fun_timer=list([])\n",
    "    \n",
    "    for i in sorts_array:\n",
    "        start = time.clock() # Timestamp start\n",
    "        fun_results.append(sel_array) # Runs the algorithm\n",
    "        fun_names.append(i.__name__) # Returns the sort method name as a string\n",
    "        end = time.clock() # Timestamp finish\n",
    "        fun_timer.append(round((end - start)*1000,6)) # Convert to milliseconds \n",
    "    \n",
    "    return [fun_names, fun_timer, fun_results] # Returns what was run, the time it was run, and the output"
   ]
  },
  {
   "cell_type": "markdown",
   "metadata": {},
   "source": [
    "# Run Trials and Create Pandas Data Frame\n",
    "\n",
    "Most of the work has been completed, this next step passes the generated data to the selected functions defined previously.  The arrays are then summarized into a pandas data frame for further analysis. "
   ]
  },
  {
   "cell_type": "code",
   "execution_count": 10,
   "metadata": {},
   "outputs": [
    {
     "data": {
      "text/html": [
       "<div>\n",
       "<style scoped>\n",
       "    .dataframe tbody tr th:only-of-type {\n",
       "        vertical-align: middle;\n",
       "    }\n",
       "\n",
       "    .dataframe tbody tr th {\n",
       "        vertical-align: top;\n",
       "    }\n",
       "\n",
       "    .dataframe thead th {\n",
       "        text-align: right;\n",
       "    }\n",
       "</style>\n",
       "<table border=\"1\" class=\"dataframe\">\n",
       "  <thead>\n",
       "    <tr style=\"text-align: right;\">\n",
       "      <th></th>\n",
       "      <th>sort_method</th>\n",
       "      <th>timer</th>\n",
       "      <th>sorted_by</th>\n",
       "    </tr>\n",
       "  </thead>\n",
       "  <tbody>\n",
       "    <tr>\n",
       "      <th>0</th>\n",
       "      <td>quickSort</td>\n",
       "      <td>0.001455</td>\n",
       "      <td>state</td>\n",
       "    </tr>\n",
       "    <tr>\n",
       "      <th>1</th>\n",
       "      <td>mergeSort</td>\n",
       "      <td>0.000485</td>\n",
       "      <td>state</td>\n",
       "    </tr>\n",
       "    <tr>\n",
       "      <th>2</th>\n",
       "      <td>bubbleSort</td>\n",
       "      <td>0.000000</td>\n",
       "      <td>state</td>\n",
       "    </tr>\n",
       "    <tr>\n",
       "      <th>3</th>\n",
       "      <td>insertionSort</td>\n",
       "      <td>0.000485</td>\n",
       "      <td>state</td>\n",
       "    </tr>\n",
       "    <tr>\n",
       "      <th>4</th>\n",
       "      <td>shellSort</td>\n",
       "      <td>0.000485</td>\n",
       "      <td>state</td>\n",
       "    </tr>\n",
       "  </tbody>\n",
       "</table>\n",
       "</div>"
      ],
      "text/plain": [
       "     sort_method     timer sorted_by\n",
       "0      quickSort  0.001455     state\n",
       "1      mergeSort  0.000485     state\n",
       "2     bubbleSort  0.000000     state\n",
       "3  insertionSort  0.000485     state\n",
       "4      shellSort  0.000485     state"
      ]
     },
     "execution_count": 10,
     "metadata": {},
     "output_type": "execute_result"
    },
    {
     "data": {
      "text/html": [
       "<div>\n",
       "<style scoped>\n",
       "    .dataframe tbody tr th:only-of-type {\n",
       "        vertical-align: middle;\n",
       "    }\n",
       "\n",
       "    .dataframe tbody tr th {\n",
       "        vertical-align: top;\n",
       "    }\n",
       "\n",
       "    .dataframe thead th {\n",
       "        text-align: right;\n",
       "    }\n",
       "</style>\n",
       "<table border=\"1\" class=\"dataframe\">\n",
       "  <thead>\n",
       "    <tr style=\"text-align: right;\">\n",
       "      <th></th>\n",
       "      <th>quickSort</th>\n",
       "      <th>mergeSort</th>\n",
       "      <th>bubbleSort</th>\n",
       "      <th>insertionSort</th>\n",
       "      <th>shellSort</th>\n",
       "    </tr>\n",
       "  </thead>\n",
       "  <tbody>\n",
       "    <tr>\n",
       "      <th>0</th>\n",
       "      <td>AL</td>\n",
       "      <td>AL</td>\n",
       "      <td>AL</td>\n",
       "      <td>AL</td>\n",
       "      <td>AL</td>\n",
       "    </tr>\n",
       "    <tr>\n",
       "      <th>1</th>\n",
       "      <td>AK</td>\n",
       "      <td>AK</td>\n",
       "      <td>AK</td>\n",
       "      <td>AK</td>\n",
       "      <td>AK</td>\n",
       "    </tr>\n",
       "    <tr>\n",
       "      <th>2</th>\n",
       "      <td>AZ</td>\n",
       "      <td>AZ</td>\n",
       "      <td>AZ</td>\n",
       "      <td>AZ</td>\n",
       "      <td>AZ</td>\n",
       "    </tr>\n",
       "    <tr>\n",
       "      <th>3</th>\n",
       "      <td>AR</td>\n",
       "      <td>AR</td>\n",
       "      <td>AR</td>\n",
       "      <td>AR</td>\n",
       "      <td>AR</td>\n",
       "    </tr>\n",
       "    <tr>\n",
       "      <th>4</th>\n",
       "      <td>CA</td>\n",
       "      <td>CA</td>\n",
       "      <td>CA</td>\n",
       "      <td>CA</td>\n",
       "      <td>CA</td>\n",
       "    </tr>\n",
       "  </tbody>\n",
       "</table>\n",
       "</div>"
      ],
      "text/plain": [
       "  quickSort mergeSort bubbleSort insertionSort shellSort\n",
       "0        AL        AL         AL            AL        AL\n",
       "1        AK        AK         AK            AK        AK\n",
       "2        AZ        AZ         AZ            AZ        AZ\n",
       "3        AR        AR         AR            AR        AR\n",
       "4        CA        CA         CA            CA        CA"
      ]
     },
     "execution_count": 10,
     "metadata": {},
     "output_type": "execute_result"
    }
   ],
   "source": [
    "# Run the Trial\n",
    "results = run_trial(p_df[series[0]])\n",
    "\n",
    "# Store the performance outputs for analysis\n",
    "df_results1 = pd.DataFrame({'sort_method': results[0],\n",
    "                           'timer': results[1],\n",
    "                           'sorted_by': series[0]})\n",
    "\n",
    "# Store the actual sorted results \n",
    "output_run1 = pd.DataFrame({results[0][0]: results[2][0],\n",
    "                          results[0][1]: results[2][1],\n",
    "                          results[0][2]: results[2][2],\n",
    "                          results[0][3]: results[2][3],\n",
    "                          results[0][4]: results[2][4]})\n",
    "\n",
    "# Create labels for grpah (used later)\n",
    "sort_names = results[0]\n",
    "\n",
    "# Print first five records\n",
    "df_results1.head()\n",
    "output_run1.head()"
   ]
  },
  {
   "cell_type": "code",
   "execution_count": 11,
   "metadata": {},
   "outputs": [
    {
     "data": {
      "text/html": [
       "<div>\n",
       "<style scoped>\n",
       "    .dataframe tbody tr th:only-of-type {\n",
       "        vertical-align: middle;\n",
       "    }\n",
       "\n",
       "    .dataframe tbody tr th {\n",
       "        vertical-align: top;\n",
       "    }\n",
       "\n",
       "    .dataframe thead th {\n",
       "        text-align: right;\n",
       "    }\n",
       "</style>\n",
       "<table border=\"1\" class=\"dataframe\">\n",
       "  <thead>\n",
       "    <tr style=\"text-align: right;\">\n",
       "      <th></th>\n",
       "      <th>quickSort</th>\n",
       "      <th>mergeSort</th>\n",
       "      <th>bubbleSort</th>\n",
       "      <th>insertionSort</th>\n",
       "      <th>shellSort</th>\n",
       "    </tr>\n",
       "  </thead>\n",
       "  <tbody>\n",
       "    <tr>\n",
       "      <th>0</th>\n",
       "      <td>bqpggxcwhj</td>\n",
       "      <td>bqpggxcwhj</td>\n",
       "      <td>bqpggxcwhj</td>\n",
       "      <td>bqpggxcwhj</td>\n",
       "      <td>bqpggxcwhj</td>\n",
       "    </tr>\n",
       "    <tr>\n",
       "      <th>1</th>\n",
       "      <td>kdsejkhxkn</td>\n",
       "      <td>kdsejkhxkn</td>\n",
       "      <td>kdsejkhxkn</td>\n",
       "      <td>kdsejkhxkn</td>\n",
       "      <td>kdsejkhxkn</td>\n",
       "    </tr>\n",
       "    <tr>\n",
       "      <th>2</th>\n",
       "      <td>enhxuewxyi</td>\n",
       "      <td>enhxuewxyi</td>\n",
       "      <td>enhxuewxyi</td>\n",
       "      <td>enhxuewxyi</td>\n",
       "      <td>enhxuewxyi</td>\n",
       "    </tr>\n",
       "    <tr>\n",
       "      <th>3</th>\n",
       "      <td>ryegngkulz</td>\n",
       "      <td>ryegngkulz</td>\n",
       "      <td>ryegngkulz</td>\n",
       "      <td>ryegngkulz</td>\n",
       "      <td>ryegngkulz</td>\n",
       "    </tr>\n",
       "    <tr>\n",
       "      <th>4</th>\n",
       "      <td>tbvnsjeolt</td>\n",
       "      <td>tbvnsjeolt</td>\n",
       "      <td>tbvnsjeolt</td>\n",
       "      <td>tbvnsjeolt</td>\n",
       "      <td>tbvnsjeolt</td>\n",
       "    </tr>\n",
       "  </tbody>\n",
       "</table>\n",
       "</div>"
      ],
      "text/plain": [
       "    quickSort   mergeSort  bubbleSort insertionSort   shellSort\n",
       "0  bqpggxcwhj  bqpggxcwhj  bqpggxcwhj    bqpggxcwhj  bqpggxcwhj\n",
       "1  kdsejkhxkn  kdsejkhxkn  kdsejkhxkn    kdsejkhxkn  kdsejkhxkn\n",
       "2  enhxuewxyi  enhxuewxyi  enhxuewxyi    enhxuewxyi  enhxuewxyi\n",
       "3  ryegngkulz  ryegngkulz  ryegngkulz    ryegngkulz  ryegngkulz\n",
       "4  tbvnsjeolt  tbvnsjeolt  tbvnsjeolt    tbvnsjeolt  tbvnsjeolt"
      ]
     },
     "execution_count": 11,
     "metadata": {},
     "output_type": "execute_result"
    },
    {
     "data": {
      "text/html": [
       "<div>\n",
       "<style scoped>\n",
       "    .dataframe tbody tr th:only-of-type {\n",
       "        vertical-align: middle;\n",
       "    }\n",
       "\n",
       "    .dataframe tbody tr th {\n",
       "        vertical-align: top;\n",
       "    }\n",
       "\n",
       "    .dataframe thead th {\n",
       "        text-align: right;\n",
       "    }\n",
       "</style>\n",
       "<table border=\"1\" class=\"dataframe\">\n",
       "  <thead>\n",
       "    <tr style=\"text-align: right;\">\n",
       "      <th></th>\n",
       "      <th>sort_method</th>\n",
       "      <th>timer</th>\n",
       "      <th>sorted_by</th>\n",
       "    </tr>\n",
       "  </thead>\n",
       "  <tbody>\n",
       "    <tr>\n",
       "      <th>0</th>\n",
       "      <td>quickSort</td>\n",
       "      <td>0.000970</td>\n",
       "      <td>first_name</td>\n",
       "    </tr>\n",
       "    <tr>\n",
       "      <th>1</th>\n",
       "      <td>mergeSort</td>\n",
       "      <td>0.000485</td>\n",
       "      <td>first_name</td>\n",
       "    </tr>\n",
       "    <tr>\n",
       "      <th>2</th>\n",
       "      <td>bubbleSort</td>\n",
       "      <td>0.000485</td>\n",
       "      <td>first_name</td>\n",
       "    </tr>\n",
       "    <tr>\n",
       "      <th>3</th>\n",
       "      <td>insertionSort</td>\n",
       "      <td>0.000485</td>\n",
       "      <td>first_name</td>\n",
       "    </tr>\n",
       "    <tr>\n",
       "      <th>4</th>\n",
       "      <td>shellSort</td>\n",
       "      <td>0.000485</td>\n",
       "      <td>first_name</td>\n",
       "    </tr>\n",
       "  </tbody>\n",
       "</table>\n",
       "</div>"
      ],
      "text/plain": [
       "     sort_method     timer   sorted_by\n",
       "0      quickSort  0.000970  first_name\n",
       "1      mergeSort  0.000485  first_name\n",
       "2     bubbleSort  0.000485  first_name\n",
       "3  insertionSort  0.000485  first_name\n",
       "4      shellSort  0.000485  first_name"
      ]
     },
     "execution_count": 11,
     "metadata": {},
     "output_type": "execute_result"
    }
   ],
   "source": [
    "# Run the Trial\n",
    "results = run_trial(p_df[series[1]])\n",
    "\n",
    "# Store the performance outputs for analysis\n",
    "df_results2 = pd.DataFrame({'sort_method': results[0],\n",
    "                           'timer': results[1],\n",
    "                           'sorted_by': series[1]})\n",
    "\n",
    "# Store the actual sorted results\n",
    "output_run2 = pd.DataFrame({results[0][0]: results[2][0],\n",
    "                          results[0][1]: results[2][1],\n",
    "                          results[0][2]: results[2][2],\n",
    "                          results[0][3]: results[2][3],\n",
    "                          results[0][4]: results[2][4]})\n",
    "\n",
    "# Print first five records\n",
    "output_run2.head()\n",
    "df_results2.head()"
   ]
  },
  {
   "cell_type": "code",
   "execution_count": 12,
   "metadata": {},
   "outputs": [
    {
     "data": {
      "text/html": [
       "<div>\n",
       "<style scoped>\n",
       "    .dataframe tbody tr th:only-of-type {\n",
       "        vertical-align: middle;\n",
       "    }\n",
       "\n",
       "    .dataframe tbody tr th {\n",
       "        vertical-align: top;\n",
       "    }\n",
       "\n",
       "    .dataframe thead th {\n",
       "        text-align: right;\n",
       "    }\n",
       "</style>\n",
       "<table border=\"1\" class=\"dataframe\">\n",
       "  <thead>\n",
       "    <tr style=\"text-align: right;\">\n",
       "      <th></th>\n",
       "      <th>sort_method</th>\n",
       "      <th>timer</th>\n",
       "      <th>sorted_by</th>\n",
       "    </tr>\n",
       "  </thead>\n",
       "  <tbody>\n",
       "    <tr>\n",
       "      <th>0</th>\n",
       "      <td>quickSort</td>\n",
       "      <td>0.000970</td>\n",
       "      <td>last_name</td>\n",
       "    </tr>\n",
       "    <tr>\n",
       "      <th>1</th>\n",
       "      <td>mergeSort</td>\n",
       "      <td>0.000485</td>\n",
       "      <td>last_name</td>\n",
       "    </tr>\n",
       "    <tr>\n",
       "      <th>2</th>\n",
       "      <td>bubbleSort</td>\n",
       "      <td>0.000485</td>\n",
       "      <td>last_name</td>\n",
       "    </tr>\n",
       "    <tr>\n",
       "      <th>3</th>\n",
       "      <td>insertionSort</td>\n",
       "      <td>0.000485</td>\n",
       "      <td>last_name</td>\n",
       "    </tr>\n",
       "    <tr>\n",
       "      <th>4</th>\n",
       "      <td>shellSort</td>\n",
       "      <td>0.000485</td>\n",
       "      <td>last_name</td>\n",
       "    </tr>\n",
       "  </tbody>\n",
       "</table>\n",
       "</div>"
      ],
      "text/plain": [
       "     sort_method     timer  sorted_by\n",
       "0      quickSort  0.000970  last_name\n",
       "1      mergeSort  0.000485  last_name\n",
       "2     bubbleSort  0.000485  last_name\n",
       "3  insertionSort  0.000485  last_name\n",
       "4      shellSort  0.000485  last_name"
      ]
     },
     "execution_count": 12,
     "metadata": {},
     "output_type": "execute_result"
    },
    {
     "data": {
      "text/html": [
       "<div>\n",
       "<style scoped>\n",
       "    .dataframe tbody tr th:only-of-type {\n",
       "        vertical-align: middle;\n",
       "    }\n",
       "\n",
       "    .dataframe tbody tr th {\n",
       "        vertical-align: top;\n",
       "    }\n",
       "\n",
       "    .dataframe thead th {\n",
       "        text-align: right;\n",
       "    }\n",
       "</style>\n",
       "<table border=\"1\" class=\"dataframe\">\n",
       "  <thead>\n",
       "    <tr style=\"text-align: right;\">\n",
       "      <th></th>\n",
       "      <th>quickSort</th>\n",
       "      <th>mergeSort</th>\n",
       "      <th>bubbleSort</th>\n",
       "      <th>insertionSort</th>\n",
       "      <th>shellSort</th>\n",
       "    </tr>\n",
       "  </thead>\n",
       "  <tbody>\n",
       "    <tr>\n",
       "      <th>0</th>\n",
       "      <td>nuwkofgskl</td>\n",
       "      <td>nuwkofgskl</td>\n",
       "      <td>nuwkofgskl</td>\n",
       "      <td>nuwkofgskl</td>\n",
       "      <td>nuwkofgskl</td>\n",
       "    </tr>\n",
       "    <tr>\n",
       "      <th>1</th>\n",
       "      <td>zzzjzhedkh</td>\n",
       "      <td>zzzjzhedkh</td>\n",
       "      <td>zzzjzhedkh</td>\n",
       "      <td>zzzjzhedkh</td>\n",
       "      <td>zzzjzhedkh</td>\n",
       "    </tr>\n",
       "    <tr>\n",
       "      <th>2</th>\n",
       "      <td>tphlhbrhee</td>\n",
       "      <td>tphlhbrhee</td>\n",
       "      <td>tphlhbrhee</td>\n",
       "      <td>tphlhbrhee</td>\n",
       "      <td>tphlhbrhee</td>\n",
       "    </tr>\n",
       "    <tr>\n",
       "      <th>3</th>\n",
       "      <td>tqaoxvvfza</td>\n",
       "      <td>tqaoxvvfza</td>\n",
       "      <td>tqaoxvvfza</td>\n",
       "      <td>tqaoxvvfza</td>\n",
       "      <td>tqaoxvvfza</td>\n",
       "    </tr>\n",
       "    <tr>\n",
       "      <th>4</th>\n",
       "      <td>viimlgylsn</td>\n",
       "      <td>viimlgylsn</td>\n",
       "      <td>viimlgylsn</td>\n",
       "      <td>viimlgylsn</td>\n",
       "      <td>viimlgylsn</td>\n",
       "    </tr>\n",
       "  </tbody>\n",
       "</table>\n",
       "</div>"
      ],
      "text/plain": [
       "    quickSort   mergeSort  bubbleSort insertionSort   shellSort\n",
       "0  nuwkofgskl  nuwkofgskl  nuwkofgskl    nuwkofgskl  nuwkofgskl\n",
       "1  zzzjzhedkh  zzzjzhedkh  zzzjzhedkh    zzzjzhedkh  zzzjzhedkh\n",
       "2  tphlhbrhee  tphlhbrhee  tphlhbrhee    tphlhbrhee  tphlhbrhee\n",
       "3  tqaoxvvfza  tqaoxvvfza  tqaoxvvfza    tqaoxvvfza  tqaoxvvfza\n",
       "4  viimlgylsn  viimlgylsn  viimlgylsn    viimlgylsn  viimlgylsn"
      ]
     },
     "execution_count": 12,
     "metadata": {},
     "output_type": "execute_result"
    }
   ],
   "source": [
    "# Run the Trial\n",
    "results = run_trial(p_df[series[2]])\n",
    "df_results3 = pd.DataFrame({'sort_method': results[0],\n",
    "                           'timer': results[1],\n",
    "                           'sorted_by': series[2]})\n",
    "\n",
    "# Store the actual sorted results\n",
    "output_run3 = pd.DataFrame({results[0][0]: results[2][0],\n",
    "                          results[0][1]: results[2][1],\n",
    "                          results[0][2]: results[2][2],\n",
    "                          results[0][3]: results[2][3],\n",
    "                          results[0][4]: results[2][4]})\n",
    "\n",
    "# Print first five records\n",
    "df_results3.head()\n",
    "output_run3.head()"
   ]
  },
  {
   "cell_type": "markdown",
   "metadata": {},
   "source": [
    "## Combine the sort performance metrics into a master dataframe\n",
    "Concatenate all data into a single point of truth for further analysis."
   ]
  },
  {
   "cell_type": "code",
   "execution_count": 13,
   "metadata": {},
   "outputs": [
    {
     "data": {
      "text/html": [
       "<div>\n",
       "<style scoped>\n",
       "    .dataframe tbody tr th:only-of-type {\n",
       "        vertical-align: middle;\n",
       "    }\n",
       "\n",
       "    .dataframe tbody tr th {\n",
       "        vertical-align: top;\n",
       "    }\n",
       "\n",
       "    .dataframe thead th {\n",
       "        text-align: right;\n",
       "    }\n",
       "</style>\n",
       "<table border=\"1\" class=\"dataframe\">\n",
       "  <thead>\n",
       "    <tr style=\"text-align: right;\">\n",
       "      <th></th>\n",
       "      <th>sort_method</th>\n",
       "      <th>timer</th>\n",
       "      <th>sorted_by</th>\n",
       "    </tr>\n",
       "  </thead>\n",
       "  <tbody>\n",
       "    <tr>\n",
       "      <th>0</th>\n",
       "      <td>quickSort</td>\n",
       "      <td>0.001455</td>\n",
       "      <td>state</td>\n",
       "    </tr>\n",
       "    <tr>\n",
       "      <th>1</th>\n",
       "      <td>mergeSort</td>\n",
       "      <td>0.000485</td>\n",
       "      <td>state</td>\n",
       "    </tr>\n",
       "    <tr>\n",
       "      <th>2</th>\n",
       "      <td>bubbleSort</td>\n",
       "      <td>0.000000</td>\n",
       "      <td>state</td>\n",
       "    </tr>\n",
       "    <tr>\n",
       "      <th>3</th>\n",
       "      <td>insertionSort</td>\n",
       "      <td>0.000485</td>\n",
       "      <td>state</td>\n",
       "    </tr>\n",
       "    <tr>\n",
       "      <th>4</th>\n",
       "      <td>shellSort</td>\n",
       "      <td>0.000485</td>\n",
       "      <td>state</td>\n",
       "    </tr>\n",
       "  </tbody>\n",
       "</table>\n",
       "</div>"
      ],
      "text/plain": [
       "     sort_method     timer sorted_by\n",
       "0      quickSort  0.001455     state\n",
       "1      mergeSort  0.000485     state\n",
       "2     bubbleSort  0.000000     state\n",
       "3  insertionSort  0.000485     state\n",
       "4      shellSort  0.000485     state"
      ]
     },
     "execution_count": 13,
     "metadata": {},
     "output_type": "execute_result"
    }
   ],
   "source": [
    "# Concatenate the dataframes\n",
    "df_master = pd.concat([df_results1, df_results2, df_results3])\n",
    "df_master.head()"
   ]
  },
  {
   "cell_type": "code",
   "execution_count": 14,
   "metadata": {},
   "outputs": [
    {
     "name": "stdout",
     "output_type": "stream",
     "text": [
      "sort_method    sorted_by \n",
      "bubbleSort     first_name    0.000485\n",
      "               last_name     0.000485\n",
      "               state         0.000000\n",
      "insertionSort  first_name    0.000485\n",
      "               last_name     0.000485\n",
      "               state         0.000485\n",
      "mergeSort      first_name    0.000485\n",
      "               last_name     0.000485\n",
      "               state         0.000485\n",
      "quickSort      first_name    0.000970\n",
      "               last_name     0.000970\n",
      "               state         0.001455\n",
      "shellSort      first_name    0.000485\n",
      "               last_name     0.000485\n",
      "               state         0.000485\n",
      "Name: timer, dtype: float64\n"
     ]
    }
   ],
   "source": [
    "# Regroup data to for easier direct comparison\n",
    "print(df_master.groupby(['sort_method', 'sorted_by'])['timer'].sum())"
   ]
  },
  {
   "cell_type": "markdown",
   "metadata": {},
   "source": [
    "# Visualize Results"
   ]
  },
  {
   "cell_type": "code",
   "execution_count": 15,
   "metadata": {},
   "outputs": [
    {
     "data": {
      "text/plain": [
       "Text(0.5, 0, 'Sort Method')"
      ]
     },
     "execution_count": 15,
     "metadata": {},
     "output_type": "execute_result"
    },
    {
     "data": {
      "text/plain": [
       "Text(0, 0.5, 'Time in Milliseconds')"
      ]
     },
     "execution_count": 15,
     "metadata": {},
     "output_type": "execute_result"
    },
    {
     "data": {
      "text/plain": [
       "Text(0.5, 1.0, 'Time to sort')"
      ]
     },
     "execution_count": 15,
     "metadata": {},
     "output_type": "execute_result"
    },
    {
     "data": {
      "text/plain": [
       "[<matplotlib.axis.XTick at 0x20a9668f438>,\n",
       " <matplotlib.axis.XTick at 0x20a96678cf8>,\n",
       " <matplotlib.axis.XTick at 0x20a96678940>,\n",
       " <matplotlib.axis.XTick at 0x20a986e75f8>,\n",
       " <matplotlib.axis.XTick at 0x20a986e7ac8>]"
      ]
     },
     "execution_count": 15,
     "metadata": {},
     "output_type": "execute_result"
    },
    {
     "data": {
      "text/plain": [
       "[Text(0, 0, 'quickSort'),\n",
       " Text(0, 0, 'mergeSort'),\n",
       " Text(0, 0, 'bubbleSort'),\n",
       " Text(0, 0, 'insertionSort'),\n",
       " Text(0, 0, 'shellSort')]"
      ]
     },
     "execution_count": 15,
     "metadata": {},
     "output_type": "execute_result"
    },
    {
     "data": {
      "text/plain": [
       "<matplotlib.legend.Legend at 0x20a986e7f60>"
      ]
     },
     "execution_count": 15,
     "metadata": {},
     "output_type": "execute_result"
    },
    {
     "data": {
      "image/png": "[encoded data removed]",
      "text/plain": [
       "<Figure size 432x288 with 1 Axes>"
      ]
     },
     "metadata": {
      "needs_background": "light"
     },
     "output_type": "display_data"
    }
   ],
   "source": [
    "# Variable to expand x axis\n",
    "n_groups = 5\n",
    "\n",
    "# Filter dataset to best summarize it for graphical bar charts\n",
    "state = df_master[df_master['sorted_by']=='state']['timer']\n",
    "first_name =  df_master[df_master['sorted_by']=='first_name']['timer']\n",
    "last_name =  df_master[df_master['sorted_by']=='last_name']['timer']\n",
    "\n",
    "# Graphing controls\n",
    "fig, ax = plt.subplots()\n",
    "index = np.arange(n_groups)\n",
    "bar_width = 0.25\n",
    "opacity = 1\n",
    "\n",
    "# Graph the bars, State, First Name, and Last Name sorts\n",
    "rects1 = ax.bar(index,state, bar_width,\n",
    "                alpha=opacity, color='grey',\n",
    "                label='Sorted by State')\n",
    "\n",
    "rects2 = ax.bar(index + bar_width, first_name, bar_width,\n",
    "                alpha=opacity, color='red',\n",
    "                label='Sorted by First Name')\n",
    "\n",
    "rects3 = ax.bar(index + bar_width*2, last_name, bar_width,\n",
    "                alpha=opacity, color='blue',\n",
    "                label='Sorted by Last Name')\n",
    "\n",
    "# Labeling\n",
    "ax.set_xlabel('Sort Method')\n",
    "ax.set_ylabel('Time in Milliseconds')\n",
    "ax.set_title('Time to sort')\n",
    "ax.set_xticks(index + bar_width / 3)\n",
    "ax.set_xticklabels(sort_names)\n",
    "ax.legend()\n",
    "\n",
    "# Print\n",
    "fig.tight_layout()\n",
    "plt.show()"
   ]
  },
  {
   "cell_type": "markdown",
   "metadata": {},
   "source": [
    "The resulting graphic for all tests performed as part of this assigment.  \n",
    "The algorithm operates extremely quickly and hardly takes any time to run.\n",
    "\n",
    "**The quickest sort method seems to be mergesort which is expected based on bigO notation.  quickSort appears to be the longest.**\n",
    "\n",
    "Data engineers are required to consider how to ensure that an operation can perform effectively at scale.  This exercise helps to reinforce the value of measuring and testing algorithms as they scale."
   ]
  },
  {
   "cell_type": "markdown",
   "metadata": {},
   "source": [
    "## All websites referenced in this document\n",
    "* http://bigocheatsheet.com/\n",
    "* https://github.com/egonSchiele/grokking_algorithms/blob/master/04_quicksort/python/05_quicksort.py\n",
    "* https://www.geeksforgeeks.org/quick-sort/\n",
    "* https://www.geeksforgeeks.org/merge-sort/\n",
    "* https://www.geeksforgeeks.org/python-program-for-bubble-sort/\n",
    "* https://www.geeksforgeeks.org/insertion-sort/\n",
    "* https://www.geeksforgeeks.org/shellsort/\n",
    "* https://www.tutorialspoint.com/data_structures_algorithms/shell_sort_algorithm.htm"
   ]
  }
 ],
 "metadata": {
  "kernelspec": {
   "display_name": "Python 3",
   "language": "python",
   "name": "python3"
  },
  "language_info": {
   "codemirror_mode": {
    "name": "ipython",
    "version": 3
   },
   "file_extension": ".py",
   "mimetype": "text/x-python",
   "name": "python",
   "nbconvert_exporter": "python",
   "pygments_lexer": "ipython3",
   "version": "3.6.7"
  }
 },
 "nbformat": 4,
 "nbformat_minor": 2
}
